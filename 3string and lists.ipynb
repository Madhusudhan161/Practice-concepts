{
 "cells": [
  {
   "cell_type": "code",
   "execution_count": 1,
   "id": "96bfb37a-2177-49c6-9267-5e27e6e02265",
   "metadata": {},
   "outputs": [],
   "source": [
    "str1 = \"Data Science Masters\""
   ]
  },
  {
   "cell_type": "code",
   "execution_count": 2,
   "id": "e6df1344-0c42-4be6-b2b8-eb47ebe7f1ad",
   "metadata": {},
   "outputs": [
    {
     "data": {
      "text/plain": [
       "'dATA sCIENCE mASTERS'"
      ]
     },
     "execution_count": 2,
     "metadata": {},
     "output_type": "execute_result"
    }
   ],
   "source": [
    "str1.swapcase()"
   ]
  },
  {
   "cell_type": "code",
   "execution_count": 3,
   "id": "e3b4ec2f-7414-43af-b890-5e3a8c95d838",
   "metadata": {},
   "outputs": [
    {
     "data": {
      "text/plain": [
       "'Data Science Masters'"
      ]
     },
     "execution_count": 3,
     "metadata": {},
     "output_type": "execute_result"
    }
   ],
   "source": [
    "str1.title()"
   ]
  },
  {
   "cell_type": "code",
   "execution_count": 5,
   "id": "aee520fe-a1b5-4bf9-a2d1-efc490bcf5ce",
   "metadata": {},
   "outputs": [
    {
     "data": {
      "text/plain": [
       "'Data science masters'"
      ]
     },
     "execution_count": 5,
     "metadata": {},
     "output_type": "execute_result"
    }
   ],
   "source": [
    "str1.capitalize()"
   ]
  },
  {
   "cell_type": "code",
   "execution_count": 6,
   "id": "2d9239ad-f710-434a-b0f0-bd42d32e72ab",
   "metadata": {},
   "outputs": [],
   "source": [
    "## Reversing a string"
   ]
  },
  {
   "cell_type": "code",
   "execution_count": 7,
   "id": "2f33a34f-533f-4abf-a173-9de086091013",
   "metadata": {},
   "outputs": [
    {
     "data": {
      "text/plain": [
       "'sretsaM ecneicS ataD'"
      ]
     },
     "execution_count": 7,
     "metadata": {},
     "output_type": "execute_result"
    }
   ],
   "source": [
    "str1[::-1]"
   ]
  },
  {
   "cell_type": "code",
   "execution_count": 8,
   "id": "bdc99033-2a5f-4a49-a1c2-b777f489c880",
   "metadata": {},
   "outputs": [
    {
     "data": {
      "text/plain": [
       "<reversed at 0x7f91882b9f60>"
      ]
     },
     "execution_count": 8,
     "metadata": {},
     "output_type": "execute_result"
    }
   ],
   "source": [
    "## reversed\n",
    "\n",
    "reversed(str1)"
   ]
  },
  {
   "cell_type": "code",
   "execution_count": 11,
   "id": "9e632a50-08be-47df-a944-b2eebe8fdc4b",
   "metadata": {},
   "outputs": [
    {
     "data": {
      "text/plain": [
       "'sretsaM ecneicS ataD'"
      ]
     },
     "execution_count": 11,
     "metadata": {},
     "output_type": "execute_result"
    }
   ],
   "source": [
    "\"\".join(reversed(str1))"
   ]
  },
  {
   "cell_type": "code",
   "execution_count": 14,
   "id": "0c7ebba9-1eec-4f6a-b99b-52b164202e59",
   "metadata": {},
   "outputs": [
    {
     "data": {
      "text/plain": [
       "'sMadhuuMadhudMadhuhMadhuaMadhun'"
      ]
     },
     "execution_count": 14,
     "metadata": {},
     "output_type": "execute_result"
    }
   ],
   "source": [
    "\"Madhu\".join(\"sudhan\")"
   ]
  },
  {
   "cell_type": "code",
   "execution_count": 16,
   "id": "76c34f5a-83ed-4f3c-915b-10b6d72e1e0b",
   "metadata": {},
   "outputs": [
    {
     "data": {
      "text/plain": [
       "'a b c d'"
      ]
     },
     "execution_count": 16,
     "metadata": {},
     "output_type": "execute_result"
    }
   ],
   "source": [
    "\" \".join(\"abcd\") ## first a then first string, then b then first string"
   ]
  },
  {
   "cell_type": "code",
   "execution_count": 17,
   "id": "03fd0762-cd91-4721-9847-655846fd07b5",
   "metadata": {},
   "outputs": [
    {
     "data": {
      "text/plain": [
       "'a pwskills n pwskills t'"
      ]
     },
     "execution_count": 17,
     "metadata": {},
     "output_type": "execute_result"
    }
   ],
   "source": [
    "\" pwskills \".join(\"ant\")"
   ]
  },
  {
   "cell_type": "code",
   "execution_count": 25,
   "id": "d6b586ad-43f0-4458-9d7d-32a0f7cc097f",
   "metadata": {},
   "outputs": [
    {
     "data": {
      "text/plain": [
       "['t', 'n', 'a']"
      ]
     },
     "execution_count": 25,
     "metadata": {},
     "output_type": "execute_result"
    }
   ],
   "source": [
    "## type casting\n",
    "list(reversed(\"ant\"))"
   ]
  },
  {
   "cell_type": "code",
   "execution_count": 27,
   "id": "eea0e567-2539-4bff-880f-73b93b5ef542",
   "metadata": {},
   "outputs": [
    {
     "name": "stdout",
     "output_type": "stream",
     "text": [
      "tna"
     ]
    }
   ],
   "source": [
    "for i in list(reversed(\"ant\")):\n",
    "    print(i, end = \"\")"
   ]
  },
  {
   "cell_type": "code",
   "execution_count": 28,
   "id": "10d3e5b2-9506-4cbf-a803-9ac6aa191c74",
   "metadata": {},
   "outputs": [],
   "source": [
    "## removing a character from string"
   ]
  },
  {
   "cell_type": "code",
   "execution_count": 32,
   "id": "98eb3343-b528-4e08-aa5b-e8d459b8b5ef",
   "metadata": {},
   "outputs": [],
   "source": [
    "string_a = \" pwskills \""
   ]
  },
  {
   "cell_type": "code",
   "execution_count": 31,
   "id": "33250768-5c16-4325-91da-150bd13a0669",
   "metadata": {},
   "outputs": [
    {
     "data": {
      "text/plain": [
       "'pwskills'"
      ]
     },
     "execution_count": 31,
     "metadata": {},
     "output_type": "execute_result"
    }
   ],
   "source": [
    "string_a.strip()"
   ]
  },
  {
   "cell_type": "code",
   "execution_count": 33,
   "id": "37c864df-a9e9-4333-89d8-281a4eb6fe6b",
   "metadata": {},
   "outputs": [
    {
     "data": {
      "text/plain": [
       "'pwskills '"
      ]
     },
     "execution_count": 33,
     "metadata": {},
     "output_type": "execute_result"
    }
   ],
   "source": [
    "string_a.lstrip()"
   ]
  },
  {
   "cell_type": "code",
   "execution_count": 34,
   "id": "f1d16f5e-826a-4ff8-a6cc-16e082a33f66",
   "metadata": {},
   "outputs": [
    {
     "data": {
      "text/plain": [
       "' pwskills'"
      ]
     },
     "execution_count": 34,
     "metadata": {},
     "output_type": "execute_result"
    }
   ],
   "source": [
    "string_a.rstrip()"
   ]
  },
  {
   "cell_type": "code",
   "execution_count": 35,
   "id": "e5f28ae0-c84f-458c-b891-b68650d0bf45",
   "metadata": {},
   "outputs": [],
   "source": [
    "## replace"
   ]
  },
  {
   "cell_type": "code",
   "execution_count": 37,
   "id": "b45700a4-ebe3-4ccf-825c-ede034a7c8f9",
   "metadata": {},
   "outputs": [
    {
     "data": {
      "text/plain": [
       "'Greetings from pwskills'"
      ]
     },
     "execution_count": 37,
     "metadata": {},
     "output_type": "execute_result"
    }
   ],
   "source": [
    "string_n =  \"Greetings to pwskills\"\n",
    "\n",
    "string_n.replace(\"to\",\"from\") ## it takes what to reaplce and what to put in the string"
   ]
  },
  {
   "cell_type": "code",
   "execution_count": 38,
   "id": "6a22fcc1-5f11-4405-885a-6859e1736efe",
   "metadata": {},
   "outputs": [
    {
     "data": {
      "text/plain": [
       "'Hello world'"
      ]
     },
     "execution_count": 38,
     "metadata": {},
     "output_type": "execute_result"
    }
   ],
   "source": [
    "\"Hello world\""
   ]
  },
  {
   "cell_type": "code",
   "execution_count": 40,
   "id": "370ae436-34ae-47a1-8351-9999dd093706",
   "metadata": {},
   "outputs": [
    {
     "data": {
      "text/plain": [
       "'hello   world   '"
      ]
     },
     "execution_count": 40,
     "metadata": {},
     "output_type": "execute_result"
    }
   ],
   "source": [
    "\"hello \\tworld\\t\".expandtabs() ## add space where ever \"\\t\" is present"
   ]
  },
  {
   "cell_type": "code",
   "execution_count": 41,
   "id": "728e664c-f447-48e0-9f06-96b00e48b6ac",
   "metadata": {},
   "outputs": [],
   "source": [
    "str2= \"Welcome to PWskills.Welcome to Dat cience Masters \""
   ]
  },
  {
   "cell_type": "code",
   "execution_count": 46,
   "id": "fc3eb61b-aad4-4db3-b635-5b6b64c32337",
   "metadata": {},
   "outputs": [
    {
     "data": {
      "text/plain": [
       "'Welcome to PWskills.Welcome to Data Science Masters '"
      ]
     },
     "execution_count": 46,
     "metadata": {},
     "output_type": "execute_result"
    }
   ],
   "source": [
    "str2.replace(\"Dat\",\"Data\").replace(\"cience\",\"Science\")"
   ]
  },
  {
   "cell_type": "code",
   "execution_count": 47,
   "id": "8d92e582-c34f-4122-88d0-2bb72aa1e674",
   "metadata": {},
   "outputs": [],
   "source": [
    "str3= \"MADHAN\""
   ]
  },
  {
   "cell_type": "code",
   "execution_count": 48,
   "id": "f23ae4a5-fdbc-4690-bcc0-e820b316a9ec",
   "metadata": {},
   "outputs": [
    {
     "data": {
      "text/plain": [
       "True"
      ]
     },
     "execution_count": 48,
     "metadata": {},
     "output_type": "execute_result"
    }
   ],
   "source": [
    "str3.isupper()"
   ]
  },
  {
   "cell_type": "code",
   "execution_count": 49,
   "id": "0a45119f-41cb-426a-ba69-fc3645db9901",
   "metadata": {},
   "outputs": [
    {
     "data": {
      "text/plain": [
       "False"
      ]
     },
     "execution_count": 49,
     "metadata": {},
     "output_type": "execute_result"
    }
   ],
   "source": [
    "str2.islower()"
   ]
  },
  {
   "cell_type": "code",
   "execution_count": 50,
   "id": "92bb839a-81a4-46a7-b0f5-71a0c5f04614",
   "metadata": {},
   "outputs": [
    {
     "data": {
      "text/plain": [
       "False"
      ]
     },
     "execution_count": 50,
     "metadata": {},
     "output_type": "execute_result"
    }
   ],
   "source": [
    "str2.isspace()"
   ]
  },
  {
   "cell_type": "code",
   "execution_count": 3,
   "id": "a5c4824e-8a78-40bf-bbe3-14df32e2ae68",
   "metadata": {},
   "outputs": [],
   "source": [
    "str4 = \"Pwskills\""
   ]
  },
  {
   "cell_type": "code",
   "execution_count": 52,
   "id": "1228a114-9ad4-44d6-bea0-979a15f16e38",
   "metadata": {},
   "outputs": [
    {
     "data": {
      "text/plain": [
       "True"
      ]
     },
     "execution_count": 52,
     "metadata": {},
     "output_type": "execute_result"
    }
   ],
   "source": [
    "str4.endswith(\"s\")"
   ]
  },
  {
   "cell_type": "code",
   "execution_count": 1,
   "id": "a8740149-ea0a-4d55-8ba1-3770499ec9f4",
   "metadata": {},
   "outputs": [
    {
     "data": {
      "text/plain": [
       "True"
      ]
     },
     "execution_count": 1,
     "metadata": {},
     "output_type": "execute_result"
    }
   ],
   "source": [
    "## check if string is alphanumeric \n",
    "\n",
    "s1 = \"abcd1234\"\n",
    "s1.isalnum()"
   ]
  },
  {
   "cell_type": "code",
   "execution_count": 4,
   "id": "47b2f2bb-3c30-402b-b7ba-b31a1942e49d",
   "metadata": {},
   "outputs": [
    {
     "name": "stdout",
     "output_type": "stream",
     "text": [
      "8\n"
     ]
    }
   ],
   "source": [
    "## count letters in string \n",
    "count = 0\n",
    "for i in str4:\n",
    "    count = count+1\n",
    "print(count)"
   ]
  },
  {
   "cell_type": "code",
   "execution_count": 5,
   "id": "0da8375a-bb6a-424c-a955-4be7a1017403",
   "metadata": {},
   "outputs": [
    {
     "data": {
      "text/plain": [
       "8"
      ]
     },
     "execution_count": 5,
     "metadata": {},
     "output_type": "execute_result"
    }
   ],
   "source": [
    "len(str4)"
   ]
  },
  {
   "cell_type": "code",
   "execution_count": 9,
   "id": "7c5252a3-0676-4829-9a1b-d832c660117e",
   "metadata": {},
   "outputs": [],
   "source": [
    "## codeto map index values to string and print them vertically"
   ]
  },
  {
   "cell_type": "code",
   "execution_count": 7,
   "id": "f87e1fef-6277-4e10-ba6b-4f28b9efa0a2",
   "metadata": {},
   "outputs": [
    {
     "name": "stdout",
     "output_type": "stream",
     "text": [
      "P\n",
      "w\n",
      "s\n",
      "k\n",
      "i\n",
      "l\n",
      "l\n",
      "s\n"
     ]
    }
   ],
   "source": [
    "for i in str4:\n",
    "    print(i)"
   ]
  },
  {
   "cell_type": "code",
   "execution_count": 8,
   "id": "81f96980-de7f-444f-94ba-1ac672df348d",
   "metadata": {},
   "outputs": [
    {
     "name": "stdout",
     "output_type": "stream",
     "text": [
      "0 = P\n",
      "1 = w\n",
      "2 = s\n",
      "3 = k\n",
      "4 = i\n",
      "5 = l\n",
      "6 = l\n",
      "7 = s\n"
     ]
    }
   ],
   "source": [
    "for i in range(len(str4)):\n",
    "    print(i,'=',str4[i])"
   ]
  },
  {
   "cell_type": "code",
   "execution_count": 13,
   "id": "d5f74fb4-80c5-44f2-b6b6-f3fe413223e9",
   "metadata": {},
   "outputs": [
    {
     "name": "stdout",
     "output_type": "stream",
     "text": [
      "0 = P\n",
      "1 = w\n",
      "2 = s\n",
      "3 = k\n",
      "4 = i\n",
      "5 = l\n",
      "6 = l\n",
      "7 = s\n"
     ]
    }
   ],
   "source": [
    "for i in range(len(str4)):\n",
    "    print(i,'=',str4[i])"
   ]
  },
  {
   "cell_type": "code",
   "execution_count": 14,
   "id": "bd4fe012-27f2-4d40-870d-1347933dba31",
   "metadata": {},
   "outputs": [],
   "source": [
    "## write code to index string reverse order"
   ]
  },
  {
   "cell_type": "code",
   "execution_count": 18,
   "id": "2a1fc560-d898-4c77-83fa-a10b28df5d3b",
   "metadata": {},
   "outputs": [
    {
     "name": "stdout",
     "output_type": "stream",
     "text": [
      "7 = s\n",
      "6 = l\n",
      "5 = l\n",
      "4 = i\n",
      "3 = k\n",
      "2 = s\n",
      "1 = w\n",
      "0 = P\n"
     ]
    }
   ],
   "source": [
    "for i in range(len(str4)-1,-1,-1):\n",
    "    print(i,'=',str4[i])"
   ]
  },
  {
   "cell_type": "code",
   "execution_count": 20,
   "id": "ac348bbc-6ea5-43b8-92b5-46091ed3498f",
   "metadata": {},
   "outputs": [],
   "source": [
    "## another example"
   ]
  },
  {
   "cell_type": "code",
   "execution_count": 1,
   "id": "317cc055-aec9-459f-9c93-7cb02c15dc4b",
   "metadata": {},
   "outputs": [
    {
     "name": "stdout",
     "output_type": "stream",
     "text": [
      "s\n",
      "l\n",
      "l\n",
      "i\n",
      "k\n",
      "s\n",
      "w\n",
      "p\n"
     ]
    }
   ],
   "source": [
    "string5 = \"pwskills\"\n",
    "ch = len(string5)-1\n",
    "while ch >= 0:\n",
    "    print(string5[ch])\n",
    "    ch = ch -1 \n"
   ]
  },
  {
   "cell_type": "code",
   "execution_count": 4,
   "id": "c4ad537e-5ea3-48cf-a59e-04f7ea583e4a",
   "metadata": {},
   "outputs": [
    {
     "data": {
      "text/plain": [
       "7"
      ]
     },
     "execution_count": 4,
     "metadata": {},
     "output_type": "execute_result"
    }
   ],
   "source": [
    "len(string5)-1"
   ]
  },
  {
   "cell_type": "code",
   "execution_count": 7,
   "id": "6e0b3159-12d5-44b5-baff-88352118a454",
   "metadata": {},
   "outputs": [
    {
     "name": "stdout",
     "output_type": "stream",
     "text": [
      "character isnt vowel\n",
      "character isnt vowel\n",
      "character isnt vowel\n",
      "character isnt vowel\n",
      "character is vowel i\n",
      "character isnt vowel\n",
      "character isnt vowel\n",
      "character isnt vowel\n"
     ]
    }
   ],
   "source": [
    "## my own code\n",
    "name = \"pwskills\"\n",
    "vowels = \"AaEeIiOoUu\"\n",
    "\n",
    "for i in name:\n",
    "    if i in vowels:\n",
    "        print(\"character is vowel\",i)\n",
    "    else:\n",
    "        print(\"character isnt vowel\")"
   ]
  },
  {
   "cell_type": "code",
   "execution_count": 8,
   "id": "60b0b429-1447-4fec-ba2b-cd10bc13486c",
   "metadata": {},
   "outputs": [],
   "source": [
    "## mentor krish code"
   ]
  },
  {
   "cell_type": "code",
   "execution_count": 9,
   "id": "c5ed8ef1-92a4-4c8c-a8d1-f8f3b5c3505e",
   "metadata": {},
   "outputs": [
    {
     "name": "stdout",
     "output_type": "stream",
     "text": [
      "p is not a vowel\n",
      "w is not a vowel\n",
      "s is not a vowel\n",
      "k is not a vowel\n",
      "i is a vowel\n",
      "l is not a vowel\n",
      "l is not a vowel\n",
      "s is not a vowel\n"
     ]
    }
   ],
   "source": [
    "for ch in name:\n",
    "    if ch in vowels:\n",
    "        print(\"{} is a vowel\".format(ch))\n",
    "    else:\n",
    "        print(\"{} is not a vowel\".format(ch))"
   ]
  },
  {
   "cell_type": "markdown",
   "id": "1f638959-d241-4627-a1bc-ca8ee820ff77",
   "metadata": {},
   "source": [
    "# LIST"
   ]
  },
  {
   "cell_type": "code",
   "execution_count": 2,
   "id": "97729e86-d667-46e7-96e5-e8500281b59e",
   "metadata": {},
   "outputs": [],
   "source": [
    "str1 = \"Pwskills\""
   ]
  },
  {
   "cell_type": "code",
   "execution_count": 3,
   "id": "5bfc7e24-6f22-4ed8-a8ac-e330a2ee82f9",
   "metadata": {},
   "outputs": [],
   "source": [
    "str2 = \"pw skills data science masters\""
   ]
  },
  {
   "cell_type": "code",
   "execution_count": 4,
   "id": "65ac65d4-a59f-41b5-93bd-c91e656a4347",
   "metadata": {},
   "outputs": [
    {
     "data": {
      "text/plain": [
       "['P', 'w', 's', 'k', 'i', 'l', 'l', 's']"
      ]
     },
     "execution_count": 4,
     "metadata": {},
     "output_type": "execute_result"
    }
   ],
   "source": [
    "list(str1)"
   ]
  },
  {
   "cell_type": "code",
   "execution_count": 5,
   "id": "7c823658-e43a-4f0d-898b-46cf00aabea1",
   "metadata": {},
   "outputs": [
    {
     "data": {
      "text/plain": [
       "['pw', 'skills', 'data', 'science', 'masters']"
      ]
     },
     "execution_count": 5,
     "metadata": {},
     "output_type": "execute_result"
    }
   ],
   "source": [
    "list(str2.split(\" \"))"
   ]
  },
  {
   "cell_type": "code",
   "execution_count": 7,
   "id": "fea46faa-9b66-4c46-9b33-74df6239b897",
   "metadata": {},
   "outputs": [
    {
     "data": {
      "text/plain": [
       "['pw', 'skills', 'data', 'science', 'masters']"
      ]
     },
     "execution_count": 7,
     "metadata": {},
     "output_type": "execute_result"
    }
   ],
   "source": [
    "str2.split(\" \")  ## return type of split funtion for string is a list"
   ]
  },
  {
   "cell_type": "code",
   "execution_count": 8,
   "id": "ba18cc71-024c-4110-8d1e-b2745e7945d3",
   "metadata": {},
   "outputs": [],
   "source": [
    "lst1 = str2.split(\" \")"
   ]
  },
  {
   "cell_type": "code",
   "execution_count": 9,
   "id": "a1d4eb60-8c62-4d00-87c2-133cb12f29e1",
   "metadata": {},
   "outputs": [],
   "source": [
    "lst1[1] = \"Datas\""
   ]
  },
  {
   "cell_type": "code",
   "execution_count": 11,
   "id": "21190057-8c83-48e9-b2d2-ea5fb6eeb6c4",
   "metadata": {},
   "outputs": [
    {
     "data": {
      "text/plain": [
       "['pw', 'Datas', 'data', 'science', 'masters']"
      ]
     },
     "execution_count": 11,
     "metadata": {},
     "output_type": "execute_result"
    }
   ],
   "source": [
    "lst1  ## all modifying functions of string are available for list too except mutability\n",
    "      ## lists are mutable "
   ]
  },
  {
   "cell_type": "code",
   "execution_count": 12,
   "id": "16a838b5-4114-44ea-bc2a-0de342c572fd",
   "metadata": {},
   "outputs": [
    {
     "data": {
      "text/plain": [
       "'science'"
      ]
     },
     "execution_count": 12,
     "metadata": {},
     "output_type": "execute_result"
    }
   ],
   "source": [
    "lst1[-2]"
   ]
  },
  {
   "cell_type": "code",
   "execution_count": 13,
   "id": "5637fd9d-27ef-4c8a-9531-2d8a37f20039",
   "metadata": {},
   "outputs": [
    {
     "data": {
      "text/plain": [
       "['masters', 'data', 'pw']"
      ]
     },
     "execution_count": 13,
     "metadata": {},
     "output_type": "execute_result"
    }
   ],
   "source": [
    "lst1[::-2]"
   ]
  },
  {
   "cell_type": "code",
   "execution_count": 15,
   "id": "a2b6a3b6-46f5-4e95-8e52-4d0b98a5fcbc",
   "metadata": {},
   "outputs": [
    {
     "data": {
      "text/plain": [
       "['pw']"
      ]
     },
     "execution_count": 15,
     "metadata": {},
     "output_type": "execute_result"
    }
   ],
   "source": [
    "lst1[-5::-2]"
   ]
  },
  {
   "cell_type": "code",
   "execution_count": 16,
   "id": "79bf0463-1b1e-4335-bf85-401ef018255a",
   "metadata": {},
   "outputs": [],
   "source": [
    "## concatenation of list"
   ]
  },
  {
   "cell_type": "code",
   "execution_count": 22,
   "id": "7b517350-48b5-4068-9a7e-b250ae9bb5bf",
   "metadata": {},
   "outputs": [
    {
     "data": {
      "text/plain": [
       "['pw', 'Datas', 'data', 'science', 'masters', 'new item', 3]"
      ]
     },
     "execution_count": 22,
     "metadata": {},
     "output_type": "execute_result"
    }
   ],
   "source": [
    "lst1 + [\"new item\", 3] ## cant add list to a list "
   ]
  },
  {
   "cell_type": "code",
   "execution_count": 19,
   "id": "59b61c7d-aff6-428c-8b5a-1e95b8747ea3",
   "metadata": {},
   "outputs": [],
   "source": [
    "## multi nested list"
   ]
  },
  {
   "cell_type": "code",
   "execution_count": 21,
   "id": "3ddddfdb-9db2-4c77-9958-c359e4d52b75",
   "metadata": {},
   "outputs": [
    {
     "data": {
      "text/plain": [
       "['pw', 'Datas', 'data', 'science', 'masters', ['new element', 3]]"
      ]
     },
     "execution_count": 21,
     "metadata": {},
     "output_type": "execute_result"
    }
   ],
   "source": [
    "lst1 + [[\"new element\", 3]] ## lisr inside a list"
   ]
  },
  {
   "cell_type": "code",
   "execution_count": 23,
   "id": "e0e3345d-937d-42c6-a0ab-0cf6534f4efc",
   "metadata": {},
   "outputs": [],
   "source": [
    "## indexing of nested list"
   ]
  },
  {
   "cell_type": "code",
   "execution_count": 24,
   "id": "b98a2f44-de92-47a5-882a-24b08f200173",
   "metadata": {},
   "outputs": [],
   "source": [
    "lst2 = lst1 + [[\"new elemnet\", 3]]"
   ]
  },
  {
   "cell_type": "code",
   "execution_count": 25,
   "id": "7e394d4d-277f-4afc-a30f-4714fbbced13",
   "metadata": {},
   "outputs": [
    {
     "data": {
      "text/plain": [
       "'new elemnet'"
      ]
     },
     "execution_count": 25,
     "metadata": {},
     "output_type": "execute_result"
    }
   ],
   "source": [
    "lst2[-1][0]"
   ]
  },
  {
   "cell_type": "code",
   "execution_count": 26,
   "id": "7d791594-b2ef-4bb2-97f0-5d935768a2a7",
   "metadata": {},
   "outputs": [
    {
     "data": {
      "text/plain": [
       "['pw', 'Datas', 'data', 'science', 'masters']"
      ]
     },
     "execution_count": 26,
     "metadata": {},
     "output_type": "execute_result"
    }
   ],
   "source": [
    "lst1"
   ]
  },
  {
   "cell_type": "code",
   "execution_count": 31,
   "id": "8abed8b4-a25b-42da-b0a5-0de60076711b",
   "metadata": {},
   "outputs": [
    {
     "name": "stdout",
     "output_type": "stream",
     "text": [
      "pw is not science\n",
      "Datas is not science\n",
      "data is not science\n",
      "iteration completed\n"
     ]
    }
   ],
   "source": [
    "## my code for the example asked\n",
    "for i in lst1:\n",
    "    if \"science\" in i:\n",
    "        print(\"iteration completed\")\n",
    "        break\n",
    "    else:\n",
    "        print(\"{} is not science\".format(i)) ## this solution iterates through elements in lst1"
   ]
  },
  {
   "cell_type": "code",
   "execution_count": 30,
   "id": "24dd9def-4f76-4c7d-a042-b84ac5878e42",
   "metadata": {},
   "outputs": [
    {
     "name": "stdout",
     "output_type": "stream",
     "text": [
      "present\n"
     ]
    }
   ],
   "source": [
    "## krish's code\n",
    "if \"science\" in lst1:\n",
    "    print(\"present\") ## this solution checks the condition thats it"
   ]
  },
  {
   "cell_type": "code",
   "execution_count": 32,
   "id": "f72a23d2-81dd-44f8-9bad-bdc0c99d9696",
   "metadata": {},
   "outputs": [],
   "source": [
    "## min and max "
   ]
  },
  {
   "cell_type": "code",
   "execution_count": 33,
   "id": "e17a2ba6-56cc-48b1-8507-3df870677856",
   "metadata": {},
   "outputs": [],
   "source": [
    "lst1 = [\"zebra\",\"lion\",\"donkey\",\"monkey\"]\n",
    "lst2 = [1,4,5,6,8,9]"
   ]
  },
  {
   "cell_type": "code",
   "execution_count": 36,
   "id": "36d90fa1-9c5c-4df0-99d7-30f1a5bc8817",
   "metadata": {},
   "outputs": [
    {
     "name": "stdout",
     "output_type": "stream",
     "text": [
      "zebra\n"
     ]
    }
   ],
   "source": [
    "print(max(lst1)) ## it will check for ASCII character of alphabet "
   ]
  },
  {
   "cell_type": "code",
   "execution_count": 37,
   "id": "245d094f-4860-4527-9b66-4fd599926558",
   "metadata": {},
   "outputs": [
    {
     "data": {
      "text/plain": [
       "9"
      ]
     },
     "execution_count": 37,
     "metadata": {},
     "output_type": "execute_result"
    }
   ],
   "source": [
    "max(lst2)"
   ]
  },
  {
   "cell_type": "code",
   "execution_count": 38,
   "id": "a202b3e9-bca2-4273-8e01-a2f77cb09345",
   "metadata": {},
   "outputs": [
    {
     "data": {
      "text/plain": [
       "'donkey'"
      ]
     },
     "execution_count": 38,
     "metadata": {},
     "output_type": "execute_result"
    }
   ],
   "source": [
    "min(lst1)"
   ]
  },
  {
   "cell_type": "code",
   "execution_count": 39,
   "id": "d68926ad-7b1e-4c76-b7fa-e87931269dae",
   "metadata": {},
   "outputs": [
    {
     "data": {
      "text/plain": [
       "1"
      ]
     },
     "execution_count": 39,
     "metadata": {},
     "output_type": "execute_result"
    }
   ],
   "source": [
    "min(lst2)"
   ]
  },
  {
   "cell_type": "code",
   "execution_count": 40,
   "id": "5eb6377f-8a17-420f-9c3b-f0bf5486f1b8",
   "metadata": {},
   "outputs": [],
   "source": [
    "## append"
   ]
  },
  {
   "cell_type": "code",
   "execution_count": 41,
   "id": "22cd905d-a046-4c49-9db8-2197a0e63ada",
   "metadata": {},
   "outputs": [],
   "source": [
    "lst = [1,2,3,4,5,6]"
   ]
  },
  {
   "cell_type": "code",
   "execution_count": 42,
   "id": "41f2f83d-47e4-430f-b35e-0e4e0965a3c6",
   "metadata": {},
   "outputs": [],
   "source": [
    "lst.append(\"pwskills\")"
   ]
  },
  {
   "cell_type": "code",
   "execution_count": 44,
   "id": "e0ac06c8-4c8e-4bd2-ab54-e44272b6fceb",
   "metadata": {},
   "outputs": [
    {
     "data": {
      "text/plain": [
       "[1, 2, 3, 4, 5, 6, 'pwskills']"
      ]
     },
     "execution_count": 44,
     "metadata": {},
     "output_type": "execute_result"
    }
   ],
   "source": [
    "lst  ## .append() can be an inplace operator"
   ]
  },
  {
   "cell_type": "code",
   "execution_count": 45,
   "id": "79ad77a0-30bf-4666-bccd-f6939f6877fb",
   "metadata": {},
   "outputs": [],
   "source": [
    "lst.append([\"madhan\",\"data scientist\",\"python\"])"
   ]
  },
  {
   "cell_type": "code",
   "execution_count": 78,
   "id": "8cb6941c-16a0-499f-867c-ac16ad11a9b7",
   "metadata": {},
   "outputs": [
    {
     "data": {
      "text/plain": [
       "[1, 2, 3, 4, 5, 6, 'pwskills', ['madhan', 'data scientist', 'python']]"
      ]
     },
     "execution_count": 78,
     "metadata": {},
     "output_type": "execute_result"
    }
   ],
   "source": [
    "lst  ## it also only adds list to a list not multiple items to list"
   ]
  },
  {
   "cell_type": "code",
   "execution_count": 79,
   "id": "61541ed3-959f-48fb-8501-90c87d259061",
   "metadata": {},
   "outputs": [],
   "source": [
    "## to add multiple items to list we use .extend()"
   ]
  },
  {
   "cell_type": "code",
   "execution_count": 81,
   "id": "fdf737c2-37ec-495b-b5ba-830eff060100",
   "metadata": {},
   "outputs": [],
   "source": [
    "lst.extend(['a','s','f'])"
   ]
  },
  {
   "cell_type": "code",
   "execution_count": 83,
   "id": "1778b6b0-dfe2-49cd-a36f-7e1dd31434bf",
   "metadata": {},
   "outputs": [
    {
     "data": {
      "text/plain": [
       "[1,\n",
       " 2,\n",
       " 3,\n",
       " 4,\n",
       " 5,\n",
       " 6,\n",
       " 'pwskills',\n",
       " ['madhan', 'data scientist', 'python'],\n",
       " 'a',\n",
       " 's',\n",
       " 'f']"
      ]
     },
     "execution_count": 83,
     "metadata": {},
     "output_type": "execute_result"
    }
   ],
   "source": [
    "lst ## added multiple items to list using extend."
   ]
  },
  {
   "cell_type": "code",
   "execution_count": null,
   "id": "85cae393-b5fb-496d-aa30-bea29de3488f",
   "metadata": {},
   "outputs": [],
   "source": []
  },
  {
   "cell_type": "code",
   "execution_count": 47,
   "id": "d55e6667-15f4-4c15-bd50-397399a5b5c1",
   "metadata": {},
   "outputs": [],
   "source": [
    "## pop operation in inplace too"
   ]
  },
  {
   "cell_type": "code",
   "execution_count": 57,
   "id": "98f11d0a-5687-46c4-88f3-2dbab5365eee",
   "metadata": {},
   "outputs": [],
   "source": [
    "nlst = [\"madhan\",\"data scientist\",\"python\",\"donkey\",\"monkey\"]"
   ]
  },
  {
   "cell_type": "code",
   "execution_count": 58,
   "id": "8b315bd4-754b-4265-a044-6ea274754d11",
   "metadata": {},
   "outputs": [
    {
     "data": {
      "text/plain": [
       "['madhan', 'data scientist', 'python', 'donkey', 'monkey']"
      ]
     },
     "execution_count": 58,
     "metadata": {},
     "output_type": "execute_result"
    }
   ],
   "source": [
    "nlst"
   ]
  },
  {
   "cell_type": "code",
   "execution_count": 60,
   "id": "c0dc8a1d-2e85-42f0-a2f9-f64cf5d2cf01",
   "metadata": {},
   "outputs": [
    {
     "data": {
      "text/plain": [
       "'monkey'"
      ]
     },
     "execution_count": 60,
     "metadata": {},
     "output_type": "execute_result"
    }
   ],
   "source": [
    "nlst.pop() ## by default index is -1 "
   ]
  },
  {
   "cell_type": "code",
   "execution_count": 61,
   "id": "c2941a72-bbd1-495d-9bd0-a5df8403ce9a",
   "metadata": {},
   "outputs": [
    {
     "data": {
      "text/plain": [
       "['madhan', 'data scientist', 'python', 'donkey']"
      ]
     },
     "execution_count": 61,
     "metadata": {},
     "output_type": "execute_result"
    }
   ],
   "source": [
    "nlst"
   ]
  },
  {
   "cell_type": "code",
   "execution_count": 53,
   "id": "b5c35a18-fd82-4986-a1e4-da7bfaf4912e",
   "metadata": {},
   "outputs": [],
   "source": [
    "## to store removed elemnt"
   ]
  },
  {
   "cell_type": "code",
   "execution_count": 62,
   "id": "11c6bfd5-c0a0-4dd9-b553-8fd1ad77a7b0",
   "metadata": {},
   "outputs": [
    {
     "data": {
      "text/plain": [
       "'donkey'"
      ]
     },
     "execution_count": 62,
     "metadata": {},
     "output_type": "execute_result"
    }
   ],
   "source": [
    "removed_element = nlst.pop()\n",
    "removed_element"
   ]
  },
  {
   "cell_type": "code",
   "execution_count": 63,
   "id": "f2429201-b605-4663-8215-5092357d90b8",
   "metadata": {},
   "outputs": [
    {
     "data": {
      "text/plain": [
       "['madhan', 'data scientist', 'python']"
      ]
     },
     "execution_count": 63,
     "metadata": {},
     "output_type": "execute_result"
    }
   ],
   "source": [
    "nlst"
   ]
  },
  {
   "cell_type": "code",
   "execution_count": 64,
   "id": "63dcd0b2-956f-4356-a8ae-347e264ed289",
   "metadata": {},
   "outputs": [],
   "source": [
    "## sorting and reversing in list "
   ]
  },
  {
   "cell_type": "code",
   "execution_count": 66,
   "id": "3f1c4307-0bfb-4a64-8cbe-48a4f9c5d2ff",
   "metadata": {},
   "outputs": [
    {
     "data": {
      "text/plain": [
       "['a', 'b', 'r', 'm', 'q', 'z']"
      ]
     },
     "execution_count": 66,
     "metadata": {},
     "output_type": "execute_result"
    }
   ],
   "source": [
    "new_list = ['a','b','r','m','q','z']\n",
    "new_list"
   ]
  },
  {
   "cell_type": "code",
   "execution_count": 74,
   "id": "fbbb42b9-2636-40dd-ad26-6a173d3d027a",
   "metadata": {},
   "outputs": [],
   "source": [
    "## inplace operator\n",
    "new_list.reverse()"
   ]
  },
  {
   "cell_type": "code",
   "execution_count": 75,
   "id": "07c26d29-df5e-4b4c-aa10-ad817359039b",
   "metadata": {},
   "outputs": [
    {
     "data": {
      "text/plain": [
       "['z', 'q', 'm', 'r', 'b', 'a']"
      ]
     },
     "execution_count": 75,
     "metadata": {},
     "output_type": "execute_result"
    }
   ],
   "source": [
    "new_list"
   ]
  },
  {
   "cell_type": "code",
   "execution_count": 76,
   "id": "f5ee4f12-c8a5-4c93-8857-e14a484cbd48",
   "metadata": {},
   "outputs": [],
   "source": [
    "new_list.sort()"
   ]
  },
  {
   "cell_type": "code",
   "execution_count": 77,
   "id": "718b3b21-ab15-46be-a2c9-4e010abc23a4",
   "metadata": {},
   "outputs": [
    {
     "data": {
      "text/plain": [
       "['a', 'b', 'm', 'q', 'r', 'z']"
      ]
     },
     "execution_count": 77,
     "metadata": {},
     "output_type": "execute_result"
    }
   ],
   "source": [
    "new_list"
   ]
  },
  {
   "cell_type": "markdown",
   "id": "172382bc-9729-40e6-8c76-bb643a69a1fc",
   "metadata": {},
   "source": [
    "## Nested LIsts"
   ]
  },
  {
   "cell_type": "code",
   "execution_count": 1,
   "id": "f7a4ea16-bdcd-4adb-84fb-67ad29eab51f",
   "metadata": {},
   "outputs": [],
   "source": [
    "# make 3 lists\n",
    "\n",
    "lst_1 = [1,2,3]\n",
    "lst_2 = [4,5,6]\n",
    "lst_3 = [7,8,9]"
   ]
  },
  {
   "cell_type": "code",
   "execution_count": 4,
   "id": "c0cfab78-2855-4652-8d75-cfbded2d9a70",
   "metadata": {},
   "outputs": [],
   "source": [
    "# matrix of lists \n",
    "\n",
    "matrix = [lst_1,lst_2,lst_3]"
   ]
  },
  {
   "cell_type": "code",
   "execution_count": 5,
   "id": "5334dc33-93bb-45f6-b6b1-fd1b195ef682",
   "metadata": {},
   "outputs": [
    {
     "data": {
      "text/plain": [
       "[[1, 2, 3], [4, 5, 6], [7, 8, 9]]"
      ]
     },
     "execution_count": 5,
     "metadata": {},
     "output_type": "execute_result"
    }
   ],
   "source": [
    "matrix"
   ]
  },
  {
   "cell_type": "code",
   "execution_count": 6,
   "id": "25ed010c-9862-45e7-960c-3b64eeba787b",
   "metadata": {},
   "outputs": [
    {
     "data": {
      "text/plain": [
       "6"
      ]
     },
     "execution_count": 6,
     "metadata": {},
     "output_type": "execute_result"
    }
   ],
   "source": [
    "matrix[1][2]"
   ]
  },
  {
   "cell_type": "code",
   "execution_count": 7,
   "id": "a0665e4d-aa04-4220-a435-14f39d2b77fa",
   "metadata": {},
   "outputs": [
    {
     "data": {
      "text/plain": [
       "[8, 9]"
      ]
     },
     "execution_count": 7,
     "metadata": {},
     "output_type": "execute_result"
    }
   ],
   "source": [
    "matrix[2][1:]"
   ]
  },
  {
   "cell_type": "code",
   "execution_count": 28,
   "id": "3e3a3820-1e15-4e28-9004-624fd7241ea9",
   "metadata": {},
   "outputs": [],
   "source": [
    "## list comprehension"
   ]
  },
  {
   "cell_type": "code",
   "execution_count": 29,
   "id": "eb59b954-5711-4a5c-860a-ff686984c426",
   "metadata": {},
   "outputs": [
    {
     "data": {
      "text/plain": [
       "[0, 1, 2, 3, 4, 5, 6, 7, 8, 9, 10, 11, 12, 13, 14, 15, 16, 17, 18, 19]"
      ]
     },
     "execution_count": 29,
     "metadata": {},
     "output_type": "execute_result"
    }
   ],
   "source": [
    "[i for i in range(0,20)]"
   ]
  },
  {
   "cell_type": "code",
   "execution_count": 44,
   "id": "0f8270f5-d8e1-4735-b396-7a03e6fe8969",
   "metadata": {},
   "outputs": [
    {
     "data": {
      "text/plain": [
       "[0, 'Odd', 2, 'Odd', 4, 'Odd', 6, 'Odd', 8]"
      ]
     },
     "execution_count": 44,
     "metadata": {},
     "output_type": "execute_result"
    }
   ],
   "source": [
    "## list comprehension\n",
    "## even numbers\n",
    "\n",
    "[i if i%2==0 else 'Odd' for i in range(0,9)]"
   ]
  },
  {
   "cell_type": "code",
   "execution_count": 33,
   "id": "90308116-5657-4612-9208-6845c3fd55f3",
   "metadata": {},
   "outputs": [],
   "source": [
    "## iteratre through a list and find summation of even and odd numbers "
   ]
  },
  {
   "cell_type": "code",
   "execution_count": 49,
   "id": "9a386c7c-38e9-468d-93c7-327729b946cf",
   "metadata": {},
   "outputs": [],
   "source": [
    "lst = [1,2,3,4,5,6,7,8,]"
   ]
  },
  {
   "cell_type": "code",
   "execution_count": 50,
   "id": "09b5234b-f491-4f55-ae7c-afcd5ff7f6de",
   "metadata": {},
   "outputs": [
    {
     "name": "stdout",
     "output_type": "stream",
     "text": [
      "sum of even=  20\n",
      "sum of odd =  16\n"
     ]
    }
   ],
   "source": [
    "odd = 0\n",
    "even = 0\n",
    "\n",
    "for i in lst:\n",
    "    if i%2==0:\n",
    "        even += i\n",
    "        \n",
    "    else:\n",
    "        odd += i\n",
    "        \n",
    "print(\"sum of even= \", even)\n",
    "print('sum of odd = ', odd)"
   ]
  },
  {
   "cell_type": "code",
   "execution_count": 51,
   "id": "3ba070b3-b662-4745-a602-f079795aa04a",
   "metadata": {},
   "outputs": [
    {
     "data": {
      "text/plain": [
       "['odd', 2, 'odd', 4, 'odd', 6, 'odd', 8]"
      ]
     },
     "execution_count": 51,
     "metadata": {},
     "output_type": "execute_result"
    }
   ],
   "source": [
    "## i tried writing my own code \n",
    "\n",
    "[i if i%2==0 else \"odd\" for i in lst]"
   ]
  },
  {
   "cell_type": "code",
   "execution_count": 52,
   "id": "123360a2-faa5-462d-b447-9a9416fa1b54",
   "metadata": {},
   "outputs": [],
   "source": [
    "# krish\"s code"
   ]
  },
  {
   "cell_type": "code",
   "execution_count": 54,
   "id": "7644a2ad-e352-466f-8423-f5bff274a63e",
   "metadata": {},
   "outputs": [],
   "source": [
    "even_sum=sum([num for num in lst if num%2==0])"
   ]
  },
  {
   "cell_type": "code",
   "execution_count": 55,
   "id": "e8da74da-769f-45c8-ac20-e91f0e38c579",
   "metadata": {},
   "outputs": [
    {
     "data": {
      "text/plain": [
       "20"
      ]
     },
     "execution_count": 55,
     "metadata": {},
     "output_type": "execute_result"
    }
   ],
   "source": [
    "even_sum"
   ]
  },
  {
   "cell_type": "code",
   "execution_count": 56,
   "id": "e3459e3c-d029-45d1-8172-c0bdaf8b9006",
   "metadata": {},
   "outputs": [],
   "source": [
    "odd_sum=sum([num for num in lst if num%2!=0])"
   ]
  },
  {
   "cell_type": "code",
   "execution_count": 57,
   "id": "d6f61709-b253-48b5-8551-4ebfba0c7eed",
   "metadata": {},
   "outputs": [
    {
     "data": {
      "text/plain": [
       "16"
      ]
     },
     "execution_count": 57,
     "metadata": {},
     "output_type": "execute_result"
    }
   ],
   "source": [
    "odd_sum"
   ]
  },
  {
   "cell_type": "code",
   "execution_count": 58,
   "id": "3f07cc81-6e50-4f7c-a4a0-94b5b5376b3b",
   "metadata": {},
   "outputs": [],
   "source": [
    "## find square of all numbers in list"
   ]
  },
  {
   "cell_type": "code",
   "execution_count": 59,
   "id": "a982d332-c568-441d-8465-c07e542bf0be",
   "metadata": {},
   "outputs": [],
   "source": [
    "lsts=[1,2,3,4,5,6,7,8,9,10]"
   ]
  },
  {
   "cell_type": "code",
   "execution_count": 79,
   "id": "aaed6835-05ce-4192-a4ce-b6d084000fd8",
   "metadata": {},
   "outputs": [
    {
     "data": {
      "text/plain": [
       "[1, 4, 9, 16, 25, 36, 49, 64, 81, 100]"
      ]
     },
     "execution_count": 79,
     "metadata": {},
     "output_type": "execute_result"
    }
   ],
   "source": [
    "[num**2 for num in lsts]"
   ]
  },
  {
   "cell_type": "code",
   "execution_count": 69,
   "id": "5ee5f483-41a7-4b5e-bc0f-fd0ec1e303e5",
   "metadata": {},
   "outputs": [
    {
     "data": {
      "text/plain": [
       "[1, 2, 3, 4, 5, 6, 7, 8, 9, 10]"
      ]
     },
     "execution_count": 69,
     "metadata": {},
     "output_type": "execute_result"
    }
   ],
   "source": [
    "square_of_num"
   ]
  },
  {
   "cell_type": "code",
   "execution_count": 80,
   "id": "026e809e-53b5-4eb4-a0b8-847078f94df3",
   "metadata": {},
   "outputs": [
    {
     "name": "stdout",
     "output_type": "stream",
     "text": [
      "1\n",
      "4\n",
      "9\n",
      "16\n",
      "25\n",
      "36\n",
      "49\n",
      "64\n",
      "81\n",
      "100\n"
     ]
    }
   ],
   "source": [
    "## my code \n",
    "square=0\n",
    "\n",
    "for i in lsts:\n",
    "    if i >0:\n",
    "        i = i**2\n",
    "        print(i)\n",
    "        "
   ]
  },
  {
   "cell_type": "code",
   "execution_count": null,
   "id": "589cb117-c9d1-42f0-8b0f-6730f7ea5638",
   "metadata": {},
   "outputs": [],
   "source": [
    "## create list of positive numbers "
   ]
  },
  {
   "cell_type": "code",
   "execution_count": 81,
   "id": "e3ae69c7-2a7e-45d9-b31e-86b9601c3413",
   "metadata": {},
   "outputs": [],
   "source": [
    "numbers = [-2,-1,0,1,2,3,4]"
   ]
  },
  {
   "cell_type": "code",
   "execution_count": 85,
   "id": "6f9ea048-9163-497e-ad35-90ef0e79c916",
   "metadata": {},
   "outputs": [
    {
     "data": {
      "text/plain": [
       "[1, 2, 3, 4]"
      ]
     },
     "execution_count": 85,
     "metadata": {},
     "output_type": "execute_result"
    }
   ],
   "source": [
    "[num for num in numbers if num > 0]"
   ]
  },
  {
   "cell_type": "code",
   "execution_count": 86,
   "id": "772aa97f-5f5a-44dc-b0bb-1ab056116613",
   "metadata": {},
   "outputs": [],
   "source": [
    "# create list of only first letter in words from a list"
   ]
  },
  {
   "cell_type": "code",
   "execution_count": 87,
   "id": "54298169-2341-4224-aac5-49b504021bc3",
   "metadata": {},
   "outputs": [],
   "source": [
    "words = ['apple','mango','banana','orange']"
   ]
  },
  {
   "cell_type": "code",
   "execution_count": 88,
   "id": "b8ae6f48-5b45-4aa5-a2ca-68b3ccf57258",
   "metadata": {},
   "outputs": [
    {
     "data": {
      "text/plain": [
       "['a', 'm', 'b', 'o']"
      ]
     },
     "execution_count": 88,
     "metadata": {},
     "output_type": "execute_result"
    }
   ],
   "source": [
    "[word[0] for word in words ]"
   ]
  },
  {
   "cell_type": "code",
   "execution_count": 90,
   "id": "521d10ed-8235-49a5-a60e-ef96af53aa24",
   "metadata": {},
   "outputs": [],
   "source": [
    "## formula to convert celsius to farenheit\n",
    "\n",
    "(9/5)*temp+32"
   ]
  },
  {
   "cell_type": "code",
   "execution_count": 91,
   "id": "6436382b-6fd1-4681-9523-53e5f887bf40",
   "metadata": {},
   "outputs": [],
   "source": [
    "## create list converting cel ot far using list comprehension"
   ]
  },
  {
   "cell_type": "code",
   "execution_count": 92,
   "id": "be7bbebe-0a70-4c0d-a474-c543d02ef46f",
   "metadata": {},
   "outputs": [],
   "source": [
    "celsius_temp = [0,10,20,30,40,50]"
   ]
  },
  {
   "cell_type": "code",
   "execution_count": 95,
   "id": "1667529b-45b0-44ca-bfa1-11643ee5079e",
   "metadata": {},
   "outputs": [
    {
     "data": {
      "text/plain": [
       "[32.0, 50.0, 68.0, 86.0, 104.0, 122.0]"
      ]
     },
     "execution_count": 95,
     "metadata": {},
     "output_type": "execute_result"
    }
   ],
   "source": [
    "[(9/5)*cel+32 for cel in celsius_temp]"
   ]
  },
  {
   "cell_type": "code",
   "execution_count": 96,
   "id": "ce2e7e70-db0b-45ce-b798-6b06ef9407da",
   "metadata": {},
   "outputs": [],
   "source": [
    "## flatten a list of lists into a single list"
   ]
  },
  {
   "cell_type": "code",
   "execution_count": 104,
   "id": "d4204f7f-8276-4dea-93a5-0b29fb890121",
   "metadata": {},
   "outputs": [],
   "source": [
    "lists = [[1,2,3],[4,5,6],[7,8,9]]"
   ]
  },
  {
   "cell_type": "code",
   "execution_count": 105,
   "id": "3d23d9d5-faa4-4853-b2e0-fbe346930884",
   "metadata": {},
   "outputs": [
    {
     "data": {
      "text/plain": [
       "[1, 2, 3, 4, 5, 6, 7, 8, 9]"
      ]
     },
     "execution_count": 105,
     "metadata": {},
     "output_type": "execute_result"
    }
   ],
   "source": [
    "## my code \n",
    "\n",
    "[l for lst3 in lists for l in lst3 ]  ## "
   ]
  },
  {
   "cell_type": "code",
   "execution_count": 107,
   "id": "aabe5369-031f-4b09-a53e-7716fb835d97",
   "metadata": {},
   "outputs": [
    {
     "data": {
      "text/plain": [
       "[1, 2, 3, 4, 5, 6, 7, 8, 9]"
      ]
     },
     "execution_count": 107,
     "metadata": {},
     "output_type": "execute_result"
    }
   ],
   "source": [
    "## actual code\n",
    "\n",
    "[num for sublist in lists for num in sublist] \n",
    "\n",
    "## sublist iterates and store nested lists then next for loop iterates through elements in nested lists and prints into list"
   ]
  },
  {
   "cell_type": "code",
   "execution_count": 108,
   "id": "77bd0b4d-3fb7-4d6c-ab37-69c0b4a0ea0d",
   "metadata": {},
   "outputs": [],
   "source": [
    "## assignments \n",
    "## create a list using both code and list commprehension"
   ]
  },
  {
   "cell_type": "code",
   "execution_count": 1,
   "id": "e146abf5-823f-4c49-bec6-8bfec6b402c4",
   "metadata": {},
   "outputs": [],
   "source": [
    "## create a list of only prime numbers from given list"
   ]
  },
  {
   "cell_type": "code",
   "execution_count": 3,
   "id": "27fcad4a-daf5-47ad-a0d7-87a4db7fa389",
   "metadata": {},
   "outputs": [],
   "source": [
    "numbers1 = [1,2,3,4,5,6,7,8,9,10]"
   ]
  },
  {
   "cell_type": "code",
   "execution_count": 76,
   "id": "db8dd736-7d24-4d1b-bd2f-d85423d5ab0a",
   "metadata": {},
   "outputs": [
    {
     "name": "stdout",
     "output_type": "stream",
     "text": [
      "[2, 3, 5, 7]\n"
     ]
    }
   ],
   "source": [
    "## iteratin through list and excluding 0,1\n",
    "for num in numbers1:\n",
    "    if num == 0 or num == 1:\n",
    "        continue\n",
    "    prime = [x for x in range(2, num) if all(x % y != 0 for y in range(2, x))]\n",
    "    ## used list comprehension to check prime or not and retuned value to prime variable\n",
    "print(prime)"
   ]
  },
  {
   "cell_type": "code",
   "execution_count": null,
   "id": "c02b4b0a-083c-4833-8bc6-26954595c370",
   "metadata": {},
   "outputs": [],
   "source": []
  },
  {
   "cell_type": "code",
   "execution_count": 111,
   "id": "d272f61f-1e39-4abb-be27-1bdd5a25c426",
   "metadata": {},
   "outputs": [],
   "source": [
    "## create a list of all possible combinations from the list"
   ]
  },
  {
   "cell_type": "code",
   "execution_count": 1,
   "id": "430151d7-f112-4c33-879f-fe2057b8a9d4",
   "metadata": {},
   "outputs": [],
   "source": [
    "numbers2 = [1,2,3,4,5]"
   ]
  },
  {
   "cell_type": "code",
   "execution_count": 3,
   "id": "9ca586d4-32d6-4ed0-a094-c4aea2059ee3",
   "metadata": {},
   "outputs": [
    {
     "data": {
      "text/plain": [
       "[1, 2, 3, 4, 5]"
      ]
     },
     "execution_count": 3,
     "metadata": {},
     "output_type": "execute_result"
    }
   ],
   "source": [
    "[num for num in numbers2]"
   ]
  },
  {
   "cell_type": "code",
   "execution_count": 4,
   "id": "93d4462f-d479-4259-85d5-ecb50c847674",
   "metadata": {},
   "outputs": [],
   "source": [
    "import itertools"
   ]
  },
  {
   "cell_type": "code",
   "execution_count": 12,
   "id": "08fb9222-b376-48ae-9ab5-119b4f8d4a79",
   "metadata": {},
   "outputs": [],
   "source": [
    "comb = list(itertools.combinations_with_replacement(numbers2,2))"
   ]
  },
  {
   "cell_type": "code",
   "execution_count": 13,
   "id": "629daa33-ac9a-4f4d-b495-2f633c73aee9",
   "metadata": {},
   "outputs": [
    {
     "data": {
      "text/plain": [
       "[(1, 1),\n",
       " (1, 2),\n",
       " (1, 3),\n",
       " (1, 4),\n",
       " (1, 5),\n",
       " (2, 2),\n",
       " (2, 3),\n",
       " (2, 4),\n",
       " (2, 5),\n",
       " (3, 3),\n",
       " (3, 4),\n",
       " (3, 5),\n",
       " (4, 4),\n",
       " (4, 5),\n",
       " (5, 5)]"
      ]
     },
     "execution_count": 13,
     "metadata": {},
     "output_type": "execute_result"
    }
   ],
   "source": [
    "comb"
   ]
  },
  {
   "cell_type": "code",
   "execution_count": null,
   "id": "1aad07ae-b902-451d-8f9d-a6a3473373f4",
   "metadata": {},
   "outputs": [],
   "source": []
  }
 ],
 "metadata": {
  "kernelspec": {
   "display_name": "Python 3 (ipykernel)",
   "language": "python",
   "name": "python3"
  },
  "language_info": {
   "codemirror_mode": {
    "name": "ipython",
    "version": 3
   },
   "file_extension": ".py",
   "mimetype": "text/x-python",
   "name": "python",
   "nbconvert_exporter": "python",
   "pygments_lexer": "ipython3",
   "version": "3.10.8"
  }
 },
 "nbformat": 4,
 "nbformat_minor": 5
}
