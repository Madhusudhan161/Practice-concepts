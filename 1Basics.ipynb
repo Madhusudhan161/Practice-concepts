{
 "cells": [
  {
   "cell_type": "code",
   "execution_count": 3,
   "id": "2e919b5d-8974-408f-879f-532882771393",
   "metadata": {},
   "outputs": [
    {
     "name": "stdout",
     "output_type": "stream",
     "text": [
      "HELLO TO A PROGRAMMING WORLD\n"
     ]
    }
   ],
   "source": [
    "print(\"HELLO TO A PROGRAMMING WORLD\")"
   ]
  },
  {
   "cell_type": "code",
   "execution_count": 4,
   "id": "0700d66d-ccbe-4711-8200-5b7298298c7d",
   "metadata": {},
   "outputs": [],
   "source": [
    "a = 10"
   ]
  },
  {
   "cell_type": "code",
   "execution_count": 5,
   "id": "b5cd2eb2-f541-461f-9dfa-fdc9d5a3bf04",
   "metadata": {},
   "outputs": [
    {
     "data": {
      "text/plain": [
       "int"
      ]
     },
     "execution_count": 5,
     "metadata": {},
     "output_type": "execute_result"
    }
   ],
   "source": [
    "type(a)"
   ]
  },
  {
   "cell_type": "code",
   "execution_count": 6,
   "id": "1941272f-8bb4-4024-96db-222f78328e43",
   "metadata": {},
   "outputs": [],
   "source": [
    "b = 34.555"
   ]
  },
  {
   "cell_type": "code",
   "execution_count": 7,
   "id": "a36c5f9d-23e5-4038-a25d-a4ee8a20d2c2",
   "metadata": {},
   "outputs": [
    {
     "data": {
      "text/plain": [
       "float"
      ]
     },
     "execution_count": 7,
     "metadata": {},
     "output_type": "execute_result"
    }
   ],
   "source": [
    "type(b)\n"
   ]
  },
  {
   "cell_type": "code",
   "execution_count": 8,
   "id": "c51e2a62-e3ac-4e37-a293-44c6b8b3ba2e",
   "metadata": {},
   "outputs": [],
   "source": [
    "c = \"pwskills\""
   ]
  },
  {
   "cell_type": "code",
   "execution_count": 9,
   "id": "052528e4-dd55-4379-a969-b0778cc58e4c",
   "metadata": {},
   "outputs": [
    {
     "data": {
      "text/plain": [
       "'pwskills'"
      ]
     },
     "execution_count": 9,
     "metadata": {},
     "output_type": "execute_result"
    }
   ],
   "source": [
    "c"
   ]
  },
  {
   "cell_type": "code",
   "execution_count": 10,
   "id": "ef20fe17-c5c7-4f1f-a480-f1be327e5c08",
   "metadata": {},
   "outputs": [
    {
     "data": {
      "text/plain": [
       "str"
      ]
     },
     "execution_count": 10,
     "metadata": {},
     "output_type": "execute_result"
    }
   ],
   "source": [
    "type(c)\n"
   ]
  },
  {
   "cell_type": "code",
   "execution_count": 11,
   "id": "e92e4400-4b8a-4738-adbc-b5fbd641cd1e",
   "metadata": {},
   "outputs": [],
   "source": [
    "d = True"
   ]
  },
  {
   "cell_type": "code",
   "execution_count": 12,
   "id": "ac629d17-e244-4fd5-afee-349fbd4bb2a5",
   "metadata": {},
   "outputs": [
    {
     "data": {
      "text/plain": [
       "bool"
      ]
     },
     "execution_count": 12,
     "metadata": {},
     "output_type": "execute_result"
    }
   ],
   "source": [
    "type(d)"
   ]
  },
  {
   "cell_type": "code",
   "execution_count": 13,
   "id": "b0159b54-53cd-40aa-92e2-5733e412ae91",
   "metadata": {},
   "outputs": [],
   "source": [
    "d1= False"
   ]
  },
  {
   "cell_type": "code",
   "execution_count": 14,
   "id": "217fa270-7057-4615-8c31-e18006234038",
   "metadata": {},
   "outputs": [
    {
     "data": {
      "text/plain": [
       "False"
      ]
     },
     "execution_count": 14,
     "metadata": {},
     "output_type": "execute_result"
    }
   ],
   "source": [
    "d1"
   ]
  },
  {
   "cell_type": "code",
   "execution_count": 15,
   "id": "9593a383-5e86-439b-b5ba-b3fa07eb18d9",
   "metadata": {},
   "outputs": [
    {
     "data": {
      "text/plain": [
       "1"
      ]
     },
     "execution_count": 15,
     "metadata": {},
     "output_type": "execute_result"
    }
   ],
   "source": [
    "True - False"
   ]
  },
  {
   "cell_type": "code",
   "execution_count": 16,
   "id": "93a6564b-a18f-4055-9e56-a75f434fde5f",
   "metadata": {},
   "outputs": [
    {
     "data": {
      "text/plain": [
       "0"
      ]
     },
     "execution_count": 16,
     "metadata": {},
     "output_type": "execute_result"
    }
   ],
   "source": [
    "True * False"
   ]
  },
  {
   "cell_type": "markdown",
   "id": "84059bf6-0f07-42d1-ae03-c7fed1cbcb96",
   "metadata": {
    "tags": []
   },
   "source": [
    "## J is used as imaginary number in python"
   ]
  },
  {
   "cell_type": "code",
   "execution_count": 18,
   "id": "833f14b1-8429-42c1-af15-fdfc5a778fea",
   "metadata": {},
   "outputs": [],
   "source": [
    "e = 1+7j "
   ]
  },
  {
   "cell_type": "code",
   "execution_count": 19,
   "id": "7c5af964-96da-4982-b7b1-50b9ba2a80df",
   "metadata": {},
   "outputs": [
    {
     "data": {
      "text/plain": [
       "complex"
      ]
     },
     "execution_count": 19,
     "metadata": {},
     "output_type": "execute_result"
    }
   ],
   "source": [
    "type(e)"
   ]
  },
  {
   "cell_type": "code",
   "execution_count": 20,
   "id": "db89c91e-e339-4475-9f56-cd85e2435750",
   "metadata": {},
   "outputs": [
    {
     "data": {
      "text/plain": [
       "(1+7j)"
      ]
     },
     "execution_count": 20,
     "metadata": {},
     "output_type": "execute_result"
    }
   ],
   "source": [
    "e"
   ]
  },
  {
   "cell_type": "code",
   "execution_count": 21,
   "id": "be77cacd-7852-4a95-bce9-e7e15327a054",
   "metadata": {},
   "outputs": [
    {
     "data": {
      "text/plain": [
       "1.0"
      ]
     },
     "execution_count": 21,
     "metadata": {},
     "output_type": "execute_result"
    }
   ],
   "source": [
    "e.real"
   ]
  },
  {
   "cell_type": "code",
   "execution_count": 23,
   "id": "671af169-d97d-4e0c-8684-784d4ccbbe29",
   "metadata": {},
   "outputs": [
    {
     "data": {
      "text/plain": [
       "7.0"
      ]
     },
     "execution_count": 23,
     "metadata": {},
     "output_type": "execute_result"
    }
   ],
   "source": [
    "#This is extracting the imag part of my complex number\n",
    "e.imag"
   ]
  },
  {
   "cell_type": "code",
   "execution_count": 24,
   "id": "6ddb1397-4392-469f-9b7c-d802d8321859",
   "metadata": {},
   "outputs": [
    {
     "data": {
      "text/plain": [
       "'This is \\na multi line\\ncomment'"
      ]
     },
     "execution_count": 24,
     "metadata": {},
     "output_type": "execute_result"
    }
   ],
   "source": [
    "\"\"\"This is \n",
    "a multi line\n",
    "comment\"\"\""
   ]
  },
  {
   "cell_type": "code",
   "execution_count": 25,
   "id": "beb9f80d-99c9-4903-b558-53fb7791b7d6",
   "metadata": {},
   "outputs": [],
   "source": [
    "s = \"Madhan\""
   ]
  },
  {
   "cell_type": "code",
   "execution_count": 26,
   "id": "1748a326-60c4-4897-8268-33ce363184c2",
   "metadata": {},
   "outputs": [],
   "source": [
    "a = 10"
   ]
  },
  {
   "cell_type": "code",
   "execution_count": 27,
   "id": "bbf55e08-8a04-4293-a8ac-a43409fcd031",
   "metadata": {},
   "outputs": [
    {
     "data": {
      "text/plain": [
       "'10Madhan'"
      ]
     },
     "execution_count": 27,
     "metadata": {},
     "output_type": "execute_result"
    }
   ],
   "source": [
    "str(a)+s"
   ]
  },
  {
   "cell_type": "code",
   "execution_count": 28,
   "id": "03c70107-241c-4997-a9a6-7e120509f800",
   "metadata": {},
   "outputs": [
    {
     "name": "stdin",
     "output_type": "stream",
     "text": [
      " 2\n"
     ]
    }
   ],
   "source": [
    "b = input()"
   ]
  },
  {
   "cell_type": "code",
   "execution_count": 29,
   "id": "4e3a203b-d991-4847-a90d-c5bf24b39c48",
   "metadata": {},
   "outputs": [
    {
     "data": {
      "text/plain": [
       "str"
      ]
     },
     "execution_count": 29,
     "metadata": {},
     "output_type": "execute_result"
    }
   ],
   "source": [
    "type(b)"
   ]
  },
  {
   "cell_type": "code",
   "execution_count": 30,
   "id": "ba2a7276-0499-4157-bffd-b533da1f993b",
   "metadata": {},
   "outputs": [],
   "source": [
    "#Python input always reads anything typed AS a string"
   ]
  },
  {
   "cell_type": "code",
   "execution_count": 31,
   "id": "fb0d0835-598b-4a84-a493-bbc13ef2901b",
   "metadata": {},
   "outputs": [
    {
     "name": "stdin",
     "output_type": "stream",
     "text": [
      " 3252\n"
     ]
    }
   ],
   "source": [
    "c = int(input())"
   ]
  },
  {
   "cell_type": "code",
   "execution_count": 32,
   "id": "eca06cf3-6a49-4bf5-bf22-fb9d5d4a3337",
   "metadata": {},
   "outputs": [
    {
     "data": {
      "text/plain": [
       "int"
      ]
     },
     "execution_count": 32,
     "metadata": {},
     "output_type": "execute_result"
    }
   ],
   "source": [
    "type(c)"
   ]
  },
  {
   "cell_type": "code",
   "execution_count": null,
   "id": "36ded87e-025e-4f81-b6d8-54d6b5fe0bdf",
   "metadata": {},
   "outputs": [],
   "source": []
  }
 ],
 "metadata": {
  "kernelspec": {
   "display_name": "Python 3 (ipykernel)",
   "language": "python",
   "name": "python3"
  },
  "language_info": {
   "codemirror_mode": {
    "name": "ipython",
    "version": 3
   },
   "file_extension": ".py",
   "mimetype": "text/x-python",
   "name": "python",
   "nbconvert_exporter": "python",
   "pygments_lexer": "ipython3",
   "version": "3.10.8"
  }
 },
 "nbformat": 4,
 "nbformat_minor": 5
}
