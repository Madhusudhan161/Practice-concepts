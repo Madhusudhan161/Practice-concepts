{
 "cells": [
  {
   "cell_type": "markdown",
   "id": "19678a74-ba97-4172-a576-039671737061",
   "metadata": {},
   "source": [
    "### Logical Operators\n",
    "### FOR AND NOT"
   ]
  },
  {
   "cell_type": "code",
   "execution_count": 7,
   "id": "7149f8bd-d070-4d0a-994c-0c14dca15867",
   "metadata": {},
   "outputs": [
    {
     "data": {
      "text/plain": [
       "False"
      ]
     },
     "execution_count": 7,
     "metadata": {},
     "output_type": "execute_result"
    }
   ],
   "source": [
    "True and False ## True == 1 and False == 0"
   ]
  },
  {
   "cell_type": "code",
   "execution_count": 2,
   "id": "a1e06a0e-258f-4479-97cc-06671f70e0fa",
   "metadata": {},
   "outputs": [
    {
     "data": {
      "text/plain": [
       "False"
      ]
     },
     "execution_count": 2,
     "metadata": {},
     "output_type": "execute_result"
    }
   ],
   "source": [
    "bool(0)"
   ]
  },
  {
   "cell_type": "code",
   "execution_count": 3,
   "id": "dffe2a48-47a5-4f0d-bf44-5d98eff60d98",
   "metadata": {},
   "outputs": [
    {
     "data": {
      "text/plain": [
       "0"
      ]
     },
     "execution_count": 3,
     "metadata": {},
     "output_type": "execute_result"
    }
   ],
   "source": [
    "int(bool(0))"
   ]
  },
  {
   "cell_type": "code",
   "execution_count": 4,
   "id": "0b2ce75f-77ce-4623-96f9-de8b752133b3",
   "metadata": {},
   "outputs": [
    {
     "data": {
      "text/plain": [
       "True"
      ]
     },
     "execution_count": 4,
     "metadata": {},
     "output_type": "execute_result"
    }
   ],
   "source": [
    "not int(bool(0))"
   ]
  },
  {
   "cell_type": "code",
   "execution_count": 5,
   "id": "2decd0f1-b765-4250-a484-e51808f05039",
   "metadata": {},
   "outputs": [
    {
     "data": {
      "text/plain": [
       "(True, True)"
      ]
     },
     "execution_count": 5,
     "metadata": {},
     "output_type": "execute_result"
    }
   ],
   "source": [
    "bool (5), bool(-5)"
   ]
  },
  {
   "cell_type": "code",
   "execution_count": 6,
   "id": "74a4ed77-41fd-409c-849c-b2d3946830b4",
   "metadata": {},
   "outputs": [
    {
     "data": {
      "text/plain": [
       "(False, False)"
      ]
     },
     "execution_count": 6,
     "metadata": {},
     "output_type": "execute_result"
    }
   ],
   "source": [
    "not bool(5), not bool(-5)"
   ]
  },
  {
   "cell_type": "code",
   "execution_count": 8,
   "id": "378da5a4-6298-4a48-a435-0c4b2f308802",
   "metadata": {},
   "outputs": [
    {
     "data": {
      "text/plain": [
       "False"
      ]
     },
     "execution_count": 8,
     "metadata": {},
     "output_type": "execute_result"
    }
   ],
   "source": [
    "not 1"
   ]
  },
  {
   "cell_type": "markdown",
   "id": "14206517-47c8-4383-8b8d-06d54eb08bcb",
   "metadata": {},
   "source": [
    "### IS and IS not concepts .... \n",
    "#### IS compares the memory location of objects and return True/False if adress is same or nor"
   ]
  },
  {
   "cell_type": "code",
   "execution_count": 9,
   "id": "48dca536-4833-46ec-aaff-6d65fc682b19",
   "metadata": {},
   "outputs": [],
   "source": [
    "lst_a = [1,2,3,4]\n",
    "lst_b = [1,2,3,4]"
   ]
  },
  {
   "cell_type": "code",
   "execution_count": 12,
   "id": "667f6d7a-fa2b-4d8f-b13c-9359eb1f575c",
   "metadata": {},
   "outputs": [
    {
     "data": {
      "text/plain": [
       "(140258881836736, 140258804578112)"
      ]
     },
     "execution_count": 12,
     "metadata": {},
     "output_type": "execute_result"
    }
   ],
   "source": [
    "id(lst_a),id(lst_b) ## id is used to know memory location of the object"
   ]
  },
  {
   "cell_type": "code",
   "execution_count": 11,
   "id": "798f9ab5-13ca-4544-847b-d89ceab17a8d",
   "metadata": {},
   "outputs": [
    {
     "data": {
      "text/plain": [
       "False"
      ]
     },
     "execution_count": 11,
     "metadata": {},
     "output_type": "execute_result"
    }
   ],
   "source": [
    "lst_a is lst_b"
   ]
  },
  {
   "cell_type": "code",
   "execution_count": 13,
   "id": "4d88e5e2-97d1-46fc-acac-2871d4b6a15a",
   "metadata": {},
   "outputs": [
    {
     "name": "stdout",
     "output_type": "stream",
     "text": [
      "140258881836736\n",
      "140258881836736\n"
     ]
    }
   ],
   "source": [
    "lst_b = lst_a\n",
    "\n",
    "print(id(lst_a))\n",
    "print(id(lst_b))"
   ]
  },
  {
   "cell_type": "markdown",
   "id": "9f625ef1-1d1b-40e3-b7c4-fcf4fb702208",
   "metadata": {},
   "source": [
    "## Learn about bit wise operator (it was given as assignment)"
   ]
  },
  {
   "cell_type": "markdown",
   "id": "6811f69f-adae-4c0a-8e92-8b97092817c7",
   "metadata": {},
   "source": [
    " ~ # bitwise complement  (prefix unary operator)\n",
    " \n",
    " . >> # bitwise shift to right\n",
    " \n",
    " << ## shift to left\n",
    " \n",
    " | # bitwise OR\n",
    " \n",
    " & # bitwise AND\n",
    " \n",
    " ^ # bitwise exclusive-or\n",
    " \n",
    " "
   ]
  },
  {
   "cell_type": "markdown",
   "id": "7e251fbc-a678-4d4d-89c6-8a4c3ed7eeb8",
   "metadata": {},
   "source": [
    "### Strings"
   ]
  },
  {
   "cell_type": "code",
   "execution_count": 7,
   "id": "c70523ff-c02f-484b-b654-f8b1acc6bd20",
   "metadata": {},
   "outputs": [
    {
     "name": "stdout",
     "output_type": "stream",
     "text": [
      "Pw skills Data Science\n"
     ]
    }
   ],
   "source": [
    "string = \"Pw skills Data Science\"\n",
    "\n",
    "print(string)"
   ]
  },
  {
   "cell_type": "code",
   "execution_count": 9,
   "id": "3e7beccf-ba5c-4896-bf98-bafb0a370025",
   "metadata": {},
   "outputs": [
    {
     "data": {
      "text/plain": [
       "'ills D'"
      ]
     },
     "execution_count": 9,
     "metadata": {},
     "output_type": "execute_result"
    }
   ],
   "source": [
    "# SLICE OPERATION\n",
    "\n",
    "string[5:11]"
   ]
  },
  {
   "cell_type": "code",
   "execution_count": 10,
   "id": "003c565f-d464-42e0-ba2f-aaca3e843415",
   "metadata": {},
   "outputs": [],
   "source": [
    "## Reverse a string "
   ]
  },
  {
   "cell_type": "code",
   "execution_count": 11,
   "id": "ffbef44b-efff-4c83-bcee-ac558d7ed662",
   "metadata": {},
   "outputs": [
    {
     "data": {
      "text/plain": [
       "'ecneicS ataD slliks wP'"
      ]
     },
     "execution_count": 11,
     "metadata": {},
     "output_type": "execute_result"
    }
   ],
   "source": [
    "string[::-1]  ### -1 is step size and \"::\" is used to specify reverse operation"
   ]
  },
  {
   "cell_type": "code",
   "execution_count": 13,
   "id": "5a60fbec-19bb-4889-bde6-e1fef62d55c8",
   "metadata": {},
   "outputs": [],
   "source": [
    "## Example task"
   ]
  },
  {
   "cell_type": "code",
   "execution_count": 14,
   "id": "06d62cdf-e9ca-4ff8-a063-eca4cb3a7bf2",
   "metadata": {},
   "outputs": [],
   "source": [
    "course_name= \"Data Science Masters\""
   ]
  },
  {
   "cell_type": "code",
   "execution_count": 17,
   "id": "586b0a10-87d3-4b98-89fa-dc34695d797b",
   "metadata": {},
   "outputs": [
    {
     "data": {
      "text/plain": [
       "'Science'"
      ]
     },
     "execution_count": 17,
     "metadata": {},
     "output_type": "execute_result"
    }
   ],
   "source": [
    "course_name[5:12]"
   ]
  },
  {
   "cell_type": "code",
   "execution_count": 24,
   "id": "e420e49d-ddbb-4142-abc4-a63d285a4e3a",
   "metadata": {},
   "outputs": [
    {
     "data": {
      "text/plain": [
       "'ecneicS'"
      ]
     },
     "execution_count": 24,
     "metadata": {},
     "output_type": "execute_result"
    }
   ],
   "source": [
    "course_name[11:4:-1]"
   ]
  },
  {
   "cell_type": "code",
   "execution_count": 25,
   "id": "b736def3-1756-4230-950c-92f5aaf62bb9",
   "metadata": {},
   "outputs": [],
   "source": [
    "## concatenation of strings"
   ]
  },
  {
   "cell_type": "code",
   "execution_count": 26,
   "id": "9e133d20-2640-4b1b-a734-8cba1086226a",
   "metadata": {},
   "outputs": [
    {
     "data": {
      "text/plain": [
       "'Data Science Masterscourse'"
      ]
     },
     "execution_count": 26,
     "metadata": {},
     "output_type": "execute_result"
    }
   ],
   "source": [
    "course_name+ \"course\""
   ]
  },
  {
   "cell_type": "code",
   "execution_count": 27,
   "id": "b6b1062d-022e-4c4f-9b91-b6f228fcd72b",
   "metadata": {},
   "outputs": [
    {
     "data": {
      "text/plain": [
       "'Data Science MastersData Science MastersData Science MastersData Science MastersData Science Masters'"
      ]
     },
     "execution_count": 27,
     "metadata": {},
     "output_type": "execute_result"
    }
   ],
   "source": [
    "course_name* 5"
   ]
  },
  {
   "cell_type": "code",
   "execution_count": 28,
   "id": "61f34739-4c57-45d3-bafb-57f7c56e2343",
   "metadata": {},
   "outputs": [
    {
     "data": {
      "text/plain": [
       "20"
      ]
     },
     "execution_count": 28,
     "metadata": {},
     "output_type": "execute_result"
    }
   ],
   "source": [
    "len(course_name) ## lenght of string with spaces "
   ]
  },
  {
   "cell_type": "code",
   "execution_count": 29,
   "id": "87ed11f5-dd51-4d13-9deb-8d47db4a36fa",
   "metadata": {},
   "outputs": [
    {
     "data": {
      "text/plain": [
       "9"
      ]
     },
     "execution_count": 29,
     "metadata": {},
     "output_type": "execute_result"
    }
   ],
   "source": [
    "## find funtion\n",
    "\n",
    "course_name.find(\"n\") ## it will find the position index of character we given"
   ]
  },
  {
   "cell_type": "code",
   "execution_count": 31,
   "id": "c0a05073-8b32-4029-988d-8178c2ceb737",
   "metadata": {},
   "outputs": [
    {
     "data": {
      "text/plain": [
       "3"
      ]
     },
     "execution_count": 31,
     "metadata": {},
     "output_type": "execute_result"
    }
   ],
   "source": [
    "course_name.find(\"a\",2,10) ## finding index of \"a\" between 2 to 10 "
   ]
  },
  {
   "cell_type": "code",
   "execution_count": 32,
   "id": "7c8b93d2-16a3-4dd5-8170-2e55b85ca0e8",
   "metadata": {},
   "outputs": [],
   "source": [
    "## Count function"
   ]
  },
  {
   "cell_type": "code",
   "execution_count": 35,
   "id": "6b3e0769-4bf5-45fd-8339-f61eade36979",
   "metadata": {},
   "outputs": [
    {
     "data": {
      "text/plain": [
       "3"
      ]
     },
     "execution_count": 35,
     "metadata": {},
     "output_type": "execute_result"
    }
   ],
   "source": [
    "course_name.count(\"a\") ## retunrs the number of times \"a\" is repeated "
   ]
  },
  {
   "cell_type": "code",
   "execution_count": 36,
   "id": "c33a2f5e-ef82-47fd-a5fa-846215e2de90",
   "metadata": {},
   "outputs": [
    {
     "data": {
      "text/plain": [
       "2"
      ]
     },
     "execution_count": 36,
     "metadata": {},
     "output_type": "execute_result"
    }
   ],
   "source": [
    "course_name.count(' ') ## returns number of empty spaces present in string course_name"
   ]
  },
  {
   "cell_type": "code",
   "execution_count": 37,
   "id": "2907e321-40a4-401f-968c-54dcdc232e06",
   "metadata": {},
   "outputs": [
    {
     "data": {
      "text/plain": [
       "20"
      ]
     },
     "execution_count": 37,
     "metadata": {},
     "output_type": "execute_result"
    }
   ],
   "source": [
    "len(course_name)"
   ]
  },
  {
   "cell_type": "code",
   "execution_count": 38,
   "id": "95bfae4a-8271-4a2a-a9cc-2caa74207446",
   "metadata": {},
   "outputs": [
    {
     "data": {
      "text/plain": [
       "21"
      ]
     },
     "execution_count": 38,
     "metadata": {},
     "output_type": "execute_result"
    }
   ],
   "source": [
    "course_name.count(\"\")"
   ]
  },
  {
   "cell_type": "code",
   "execution_count": 39,
   "id": "27c91d7f-6ecb-4c5d-92e6-b9a55a2cdab3",
   "metadata": {},
   "outputs": [
    {
     "data": {
      "text/plain": [
       "'Data Science Masters'"
      ]
     },
     "execution_count": 39,
     "metadata": {},
     "output_type": "execute_result"
    }
   ],
   "source": [
    "course_name"
   ]
  },
  {
   "cell_type": "code",
   "execution_count": 40,
   "id": "272204d4-2ccc-407a-ac48-dc4da88bd46c",
   "metadata": {},
   "outputs": [],
   "source": [
    "## string split funtion"
   ]
  },
  {
   "cell_type": "code",
   "execution_count": 46,
   "id": "77f50645-b424-4938-a531-3b71661f6d7c",
   "metadata": {},
   "outputs": [
    {
     "data": {
      "text/plain": [
       "['Data', 'Science', 'Masters']"
      ]
     },
     "execution_count": 46,
     "metadata": {},
     "output_type": "execute_result"
    }
   ],
   "source": [
    "course_name.split(\" \")"
   ]
  },
  {
   "cell_type": "code",
   "execution_count": 44,
   "id": "bdb43b12-b5b5-4267-9012-1cd5350521fc",
   "metadata": {},
   "outputs": [
    {
     "data": {
      "text/plain": [
       "['Data Science Ma', 'ter', '']"
      ]
     },
     "execution_count": 44,
     "metadata": {},
     "output_type": "execute_result"
    }
   ],
   "source": [
    "course_name.split(\"s\")  ## it will divide at every occurence of given input like \"s\""
   ]
  },
  {
   "cell_type": "code",
   "execution_count": 43,
   "id": "366a11dc-15ed-4b16-8a3c-9ca36e14d0e4",
   "metadata": {},
   "outputs": [
    {
     "data": {
      "text/plain": [
       "('Data Science Ma', 's', 'ters')"
      ]
     },
     "execution_count": 43,
     "metadata": {},
     "output_type": "execute_result"
    }
   ],
   "source": [
    "course_name.partition(\"s\") ## it will divide at the first occurence only"
   ]
  },
  {
   "cell_type": "code",
   "execution_count": 47,
   "id": "2978eeaa-cbeb-4bb4-ab98-18b84a6765b3",
   "metadata": {},
   "outputs": [],
   "source": [
    "## string lower and upper cases"
   ]
  },
  {
   "cell_type": "code",
   "execution_count": 48,
   "id": "ed666384-49e3-4428-8f2c-10c8ec2911f5",
   "metadata": {},
   "outputs": [
    {
     "data": {
      "text/plain": [
       "'DATA SCIENCE MASTERS'"
      ]
     },
     "execution_count": 48,
     "metadata": {},
     "output_type": "execute_result"
    }
   ],
   "source": [
    "course_name.upper()"
   ]
  },
  {
   "cell_type": "code",
   "execution_count": 49,
   "id": "07e1c5a9-988d-4066-952d-5307becc7cc8",
   "metadata": {},
   "outputs": [
    {
     "data": {
      "text/plain": [
       "'data science masters'"
      ]
     },
     "execution_count": 49,
     "metadata": {},
     "output_type": "execute_result"
    }
   ],
   "source": [
    "course_name.lower()"
   ]
  },
  {
   "cell_type": "code",
   "execution_count": 51,
   "id": "8ba82a35-1078-43fe-8877-638fb97a7660",
   "metadata": {},
   "outputs": [
    {
     "data": {
      "text/plain": [
       "'dATA sCIENCE mASTERS'"
      ]
     },
     "execution_count": 51,
     "metadata": {},
     "output_type": "execute_result"
    }
   ],
   "source": [
    "course_name.swapcase() ## chamges lower to upper and upper to lower"
   ]
  },
  {
   "cell_type": "code",
   "execution_count": 53,
   "id": "1095449f-e11e-463e-b8f7-d63d29d3533e",
   "metadata": {},
   "outputs": [
    {
     "data": {
      "text/plain": [
       "'Data Science Masters'"
      ]
     },
     "execution_count": 53,
     "metadata": {},
     "output_type": "execute_result"
    }
   ],
   "source": [
    "course_name.title() ## give capital to every letter at start of the word"
   ]
  },
  {
   "cell_type": "code",
   "execution_count": null,
   "id": "084ea1a7-9ef9-4a25-a1d3-07b8a3feb0ce",
   "metadata": {},
   "outputs": [],
   "source": []
  }
 ],
 "metadata": {
  "kernelspec": {
   "display_name": "Python 3 (ipykernel)",
   "language": "python",
   "name": "python3"
  },
  "language_info": {
   "codemirror_mode": {
    "name": "ipython",
    "version": 3
   },
   "file_extension": ".py",
   "mimetype": "text/x-python",
   "name": "python",
   "nbconvert_exporter": "python",
   "pygments_lexer": "ipython3",
   "version": "3.10.8"
  }
 },
 "nbformat": 4,
 "nbformat_minor": 5
}
