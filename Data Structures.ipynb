{
 "cells": [
  {
   "cell_type": "markdown",
   "id": "eeba45f9-079e-4a1d-a3f1-44a428d1ca19",
   "metadata": {},
   "source": [
    "### Type casting"
   ]
  },
  {
   "cell_type": "code",
   "execution_count": 1,
   "id": "74eb9667-d117-41b9-898b-f81c8dd28efd",
   "metadata": {},
   "outputs": [],
   "source": [
    "a = 10"
   ]
  },
  {
   "cell_type": "code",
   "execution_count": 2,
   "id": "9d117863-ef11-4b6c-8d3d-0dcccc93f1a3",
   "metadata": {},
   "outputs": [
    {
     "data": {
      "text/plain": [
       "0"
      ]
     },
     "execution_count": 2,
     "metadata": {},
     "output_type": "execute_result"
    }
   ],
   "source": [
    "int()"
   ]
  },
  {
   "cell_type": "code",
   "execution_count": 3,
   "id": "e1b9c358-0725-4c69-bb1b-46e74eaecf60",
   "metadata": {},
   "outputs": [
    {
     "data": {
      "text/plain": [
       "123"
      ]
     },
     "execution_count": 3,
     "metadata": {},
     "output_type": "execute_result"
    }
   ],
   "source": [
    "int(123)"
   ]
  },
  {
   "cell_type": "code",
   "execution_count": 5,
   "id": "a938f2b7-952d-4909-8238-5bf9512fac05",
   "metadata": {},
   "outputs": [
    {
     "ename": "ValueError",
     "evalue": "invalid literal for int() with base 10: 'Madhan'",
     "output_type": "error",
     "traceback": [
      "\u001b[0;31m---------------------------------------------------------------------------\u001b[0m",
      "\u001b[0;31mValueError\u001b[0m                                Traceback (most recent call last)",
      "Cell \u001b[0;32mIn[5], line 1\u001b[0m\n\u001b[0;32m----> 1\u001b[0m \u001b[38;5;28;43mint\u001b[39;49m\u001b[43m(\u001b[49m\u001b[38;5;124;43m\"\u001b[39;49m\u001b[38;5;124;43mMadhan\u001b[39;49m\u001b[38;5;124;43m\"\u001b[39;49m\u001b[43m)\u001b[49m \u001b[38;5;66;03m#strig can be typecasted if its typed in the same data like (number for int)\u001b[39;00m\n",
      "\u001b[0;31mValueError\u001b[0m: invalid literal for int() with base 10: 'Madhan'"
     ]
    }
   ],
   "source": [
    "int(\"Madhan\") #strig can be typecasted if its typed in the same data like (number for int)"
   ]
  },
  {
   "cell_type": "markdown",
   "id": "d87bcbe4-cec8-4a58-be65-ee80cb15ca17",
   "metadata": {},
   "source": [
    "### Print"
   ]
  },
  {
   "cell_type": "code",
   "execution_count": 6,
   "id": "8b1a36e0-55d4-4b2c-a2f1-952d3eec04cc",
   "metadata": {},
   "outputs": [
    {
     "name": "stdout",
     "output_type": "stream",
     "text": [
      "123\n"
     ]
    }
   ],
   "source": [
    "print(123)"
   ]
  },
  {
   "cell_type": "code",
   "execution_count": 8,
   "id": "7b74ea2b-ba69-4b3e-a21b-cbca7b32c1fa",
   "metadata": {},
   "outputs": [
    {
     "name": "stdout",
     "output_type": "stream",
     "text": [
      "abcd\n"
     ]
    }
   ],
   "source": [
    "print(\"abcd\")"
   ]
  },
  {
   "cell_type": "code",
   "execution_count": 9,
   "id": "c7e26359-4c34-420a-913d-c2d5478a2387",
   "metadata": {},
   "outputs": [
    {
     "name": "stdout",
     "output_type": "stream",
     "text": [
      "my age is 24\n"
     ]
    }
   ],
   "source": [
    "age = 24 \n",
    "print(\"my age is\", age)"
   ]
  },
  {
   "cell_type": "code",
   "execution_count": 10,
   "id": "783882c2-d1ce-4f86-9f54-960347361e40",
   "metadata": {},
   "outputs": [
    {
     "name": "stdout",
     "output_type": "stream",
     "text": [
      "my age is: {age}\n"
     ]
    }
   ],
   "source": [
    "print(\"my age is: {age}\")"
   ]
  },
  {
   "cell_type": "code",
   "execution_count": 13,
   "id": "8f95b5b9-007b-4fa2-a5c9-a2aec382a43e",
   "metadata": {},
   "outputs": [
    {
     "name": "stdout",
     "output_type": "stream",
     "text": [
      "my age is: 24\n"
     ]
    }
   ],
   "source": [
    "# f string\n",
    "print(f\"my age is: {age}\") # adding f at beginning makes {} take valur from variable"
   ]
  },
  {
   "cell_type": "markdown",
   "id": "fc103d28-50a3-44ec-a69d-1bb2f7bf3343",
   "metadata": {},
   "source": [
    "### Format"
   ]
  },
  {
   "cell_type": "code",
   "execution_count": 15,
   "id": "89621a97-6d01-4a24-903c-1c454ebd43c5",
   "metadata": {},
   "outputs": [
    {
     "name": "stdout",
     "output_type": "stream",
     "text": [
      "my name is madhan and my age is 24\n"
     ]
    }
   ],
   "source": [
    "age = 24\n",
    "name = \"madhan\"\n",
    "print(\"my name is {} and my age is {}\".format(name,age))"
   ]
  },
  {
   "cell_type": "code",
   "execution_count": 16,
   "id": "53040c12-a318-41f0-9884-55f24b062646",
   "metadata": {},
   "outputs": [
    {
     "name": "stdout",
     "output_type": "stream",
     "text": [
      "My name is 24 and age is madhan\n"
     ]
    }
   ],
   "source": [
    "print(\"My name is {} and age is {}\".format(age,name))"
   ]
  },
  {
   "cell_type": "code",
   "execution_count": 18,
   "id": "ad054f00-35c3-4ebe-a0a2-714f4ebd60a0",
   "metadata": {},
   "outputs": [
    {
     "name": "stdout",
     "output_type": "stream",
     "text": [
      "my name is madhan and age is 24\n"
     ]
    }
   ],
   "source": [
    "# placeholder\n",
    "print(\"my name is {firstname} and age is {firstage}\".format(firstname=name,firstage=age))"
   ]
  },
  {
   "cell_type": "code",
   "execution_count": 19,
   "id": "b744a948-8358-46b9-a531-319eaf6fe67b",
   "metadata": {},
   "outputs": [
    {
     "name": "stdout",
     "output_type": "stream",
     "text": [
      "my name is madhan and age is 24\n"
     ]
    }
   ],
   "source": [
    "# using placeholfer will not effect the order of data \n",
    "print(\"my name is {firstname} and age is {firstage}\".format(firstage=age,firstname=name))"
   ]
  },
  {
   "cell_type": "markdown",
   "id": "9c72a85a-5659-4c05-8254-0ebff87ee986",
   "metadata": {},
   "source": [
    "## Practice"
   ]
  },
  {
   "cell_type": "code",
   "execution_count": 20,
   "id": "c00484a2-3bd6-47bf-9e40-38159d931e47",
   "metadata": {},
   "outputs": [],
   "source": [
    "name = \"Madhan\"\n",
    "age = 24\n",
    "degree = \"Bcom\""
   ]
  },
  {
   "cell_type": "code",
   "execution_count": 21,
   "id": "876c62e3-7002-417b-9866-7933110e7960",
   "metadata": {},
   "outputs": [
    {
     "name": "stdout",
     "output_type": "stream",
     "text": [
      "My age is 24 and i have completed degree Bcom on the name of Madhan\n"
     ]
    }
   ],
   "source": [
    "# F string \n",
    "print(f\"My age is {age} and i have completed degree {degree} on the name of {name}\")"
   ]
  },
  {
   "cell_type": "code",
   "execution_count": 23,
   "id": "a049e9a1-5272-46fa-b81b-a836f9ef195d",
   "metadata": {},
   "outputs": [
    {
     "name": "stdout",
     "output_type": "stream",
     "text": [
      "my age is 24 and i have completed degree Bcom on the name of Madhan\n"
     ]
    }
   ],
   "source": [
    "# placeholder way\n",
    "print(\"my age is {} and i have completed degree {} on the name of {}\".format(age,degree,name))"
   ]
  },
  {
   "cell_type": "markdown",
   "id": "8e52193e-ff74-403b-b3bd-4ab3a1abb587",
   "metadata": {},
   "source": [
    "### control Flow Statements\n",
    "### Decision making statements "
   ]
  },
  {
   "cell_type": "code",
   "execution_count": 26,
   "id": "5d1d5e0b-fd23-4544-bdd2-f21e968f44ca",
   "metadata": {},
   "outputs": [
    {
     "name": "stdout",
     "output_type": "stream",
     "text": [
      "Your are eligible to vote\n"
     ]
    }
   ],
   "source": [
    "# IF statements\n",
    "\n",
    "age = 18\n",
    "if age >= 18: # it is comparision base like \"==\", \"<=\", \">=\"\n",
    "    print(\"Your are eligible to vote\")"
   ]
  },
  {
   "cell_type": "markdown",
   "id": "687a0d61-f544-4aa5-8520-d4843224de7d",
   "metadata": {},
   "source": [
    "### Tasks to pratice"
   ]
  },
  {
   "cell_type": "code",
   "execution_count": 27,
   "id": "749e0d9a-1890-4b21-a4ee-82ff012e6d9e",
   "metadata": {},
   "outputs": [
    {
     "name": "stdin",
     "output_type": "stream",
     "text": [
      "Enter your age 24\n"
     ]
    },
    {
     "name": "stdout",
     "output_type": "stream",
     "text": [
      "you are young blood\n"
     ]
    }
   ],
   "source": [
    "age = int(input(\"Enter your age\"))\n",
    "if age>=18 and age<=45:\n",
    "    print(\"you are young blood\")"
   ]
  },
  {
   "cell_type": "code",
   "execution_count": 28,
   "id": "44a4bfb4-1219-4c3b-97df-37b0cc1e59eb",
   "metadata": {},
   "outputs": [],
   "source": [
    "# IF else statements"
   ]
  },
  {
   "cell_type": "code",
   "execution_count": 29,
   "id": "5b1ed919-ba4b-4aa7-897f-7daa026c6b54",
   "metadata": {},
   "outputs": [
    {
     "name": "stdin",
     "output_type": "stream",
     "text": [
      "enter your age 55\n"
     ]
    },
    {
     "name": "stdout",
     "output_type": "stream",
     "text": [
      "Thank you your application is rejected\n"
     ]
    }
   ],
   "source": [
    "age=int(input(\"enter your age\"))\n",
    "if age>=18 and age<+45:\n",
    "    print(\"you are young blood\")\n",
    "else:\n",
    "    print(\"Thank you your application is rejected\")"
   ]
  },
  {
   "cell_type": "code",
   "execution_count": 30,
   "id": "bc669e7a-189e-4956-ab0e-a0183eac75fd",
   "metadata": {},
   "outputs": [],
   "source": [
    "# TASKS"
   ]
  },
  {
   "cell_type": "code",
   "execution_count": 37,
   "id": "ab3d5963-44c7-4752-9c5d-8ed4d6c33f91",
   "metadata": {},
   "outputs": [
    {
     "name": "stdin",
     "output_type": "stream",
     "text": [
      "Enter the price of the prodcut 1000\n"
     ]
    },
    {
     "name": "stdout",
     "output_type": "stream",
     "text": [
      "Discount is 30% off\n",
      "Price after Discount is: 700.0\n"
     ]
    }
   ],
   "source": [
    "# This is written by me\n",
    "price = int(input(\"Enter the price of the prodcut\"))\n",
    "if price > 1000:\n",
    "    n = price - (price * 0.20)\n",
    "    print(\"Dicount is 20% off\")\n",
    "    print(\"Price after Discount is:\",n)\n",
    "elif price <= 1000:\n",
    "    p = price - (price * 0.30)\n",
    "    print(\"Discount is 30% off\")\n",
    "    print(\"Price after Discount is:\",p)"
   ]
  },
  {
   "cell_type": "code",
   "execution_count": 40,
   "id": "f2776a51-4b6d-44f4-bfb1-7c45ed7d21f4",
   "metadata": {},
   "outputs": [
    {
     "name": "stdin",
     "output_type": "stream",
     "text": [
      "Enter the price of the product 1000\n"
     ]
    },
    {
     "name": "stdout",
     "output_type": "stream",
     "text": [
      "Price of the product after discount is 700.0\n"
     ]
    }
   ],
   "source": [
    "# Code writen by krish naik\n",
    "product_price = int(input(\"Enter the price of the product\"))\n",
    "if product_price>1000:\n",
    "    print(\"Price of the product after discount is {}\".format(product_price*0.8))\n",
    "else:\n",
    "    print(\"Price of the product after discount is {}\".format(product_price*0.7))"
   ]
  },
  {
   "cell_type": "code",
   "execution_count": 42,
   "id": "82583952-1e44-4718-ae96-3ccf8c7f614f",
   "metadata": {},
   "outputs": [
    {
     "name": "stdin",
     "output_type": "stream",
     "text": [
      "Enter the price of the product 1000\n"
     ]
    },
    {
     "name": "stdout",
     "output_type": "stream",
     "text": [
      "Price of the product after discount is 700.0\n"
     ]
    }
   ],
   "source": [
    "# same example code but with  f string\n",
    "product_price = int(input(\"Enter the price of the product\"))\n",
    "if product_price>1000:\n",
    "    print(f\"Price of the product after discount is {product_price*0.8}\")\n",
    "else:\n",
    "    print(f\"Price of the product after discount is {product_price*0.7}\")\n"
   ]
  },
  {
   "cell_type": "code",
   "execution_count": 43,
   "id": "0717baa7-05b9-46a6-a4d0-1fb8cbd0b53d",
   "metadata": {},
   "outputs": [],
   "source": [
    "# Example 2 ( showing elif and nested if )\n"
   ]
  },
  {
   "cell_type": "code",
   "execution_count": null,
   "id": "32eb452e-ec5a-416d-9c46-b44c97a04e00",
   "metadata": {},
   "outputs": [],
   "source": [
    "## mall input product price\n",
    "## product >3000 20% off\n",
    "## product == 4000 you get a trip to goa\n",
    "## print product price after removing hte discount\n",
    "## product is >= 2000 rs and <=3000 rs then 30% off\n",
    "## Print the PRodcut after removing the price\n",
    "## price ==2999 you get additional gift\n",
    "## product 100 and <=2000 40% off\n",
    "## print prodcut price after removing discount"
   ]
  },
  {
   "cell_type": "code",
   "execution_count": 50,
   "id": "37d7afbe-9296-4f55-9478-a86b27c7aa37",
   "metadata": {},
   "outputs": [
    {
     "name": "stdin",
     "output_type": "stream",
     "text": [
      "Enter the price of the product 50\n"
     ]
    },
    {
     "name": "stdout",
     "output_type": "stream",
     "text": [
      "lets drink tea\n",
      "i will also be there\n"
     ]
    }
   ],
   "source": [
    "product_price = int(input(\"Enter the price of the product\"))\n",
    "if product_price>1000:\n",
    "    if product_price==4000:\n",
    "        print(\"congratulation you get a goa trip\")\n",
    "    print(f\"Price after Discount is {product_price*0.8}\")\n",
    "elif product_price >= 2000 and product_price <=3000:\n",
    "    if  product_price == 2999:\n",
    "        print(\"you get an additional discount\")\n",
    "    print(f\"Price after Discount is {product_price*0.7}\")\n",
    "elif product_price >= 100 and product_price<= 2000:\n",
    "    print(f\"Price after dicount is {product_price*0.6}\")\n",
    "else:\n",
    "    print(\"lets drink tea\")\n",
    "    print(\"i will also be there\")"
   ]
  },
  {
   "cell_type": "code",
   "execution_count": 51,
   "id": "0f1006b9-bbbb-48f7-b5aa-6c85938d64f1",
   "metadata": {},
   "outputs": [],
   "source": [
    "## Single Statement suites"
   ]
  },
  {
   "cell_type": "code",
   "execution_count": 52,
   "id": "b2f8d9a8-be4d-467f-b6e3-4aa66809ae2c",
   "metadata": {},
   "outputs": [
    {
     "name": "stdin",
     "output_type": "stream",
     "text": [
      "Enter a number 500\n"
     ]
    },
    {
     "name": "stdout",
     "output_type": "stream",
     "text": [
      "Number is less than or equal to 999\n"
     ]
    }
   ],
   "source": [
    "val=int(input(\"Enter a number\"))\n",
    "if (val<=999): print(\"Number is less than or equal to 999\")\n",
    "else:\n",
    "    print(\"Go home\")"
   ]
  },
  {
   "cell_type": "markdown",
   "id": "531d8ffa-d543-4bd5-a3e4-d5331a4ede50",
   "metadata": {},
   "source": [
    "### Loop Statemnets\n",
    "#### FOr loop, While loop, Nested Loop, Loop controls (break,continue,pass)"
   ]
  },
  {
   "cell_type": "code",
   "execution_count": 3,
   "id": "441ccb7e-a1e4-4828-8e20-2b6abbdf93df",
   "metadata": {},
   "outputs": [
    {
     "name": "stdout",
     "output_type": "stream",
     "text": [
      "26\n",
      "27\n",
      "28\n",
      "29\n",
      "30\n",
      "31\n",
      "32\n",
      "33\n",
      "34\n",
      "35\n",
      "36\n",
      "37\n",
      "38\n",
      "39\n",
      "40\n",
      "41\n",
      "42\n",
      "43\n",
      "44\n",
      "45\n",
      "46\n",
      "47\n",
      "48\n",
      "49\n",
      "50\n",
      "51\n",
      "52\n",
      "53\n",
      "54\n",
      "55\n",
      "56\n",
      "57\n",
      "58\n",
      "59\n",
      "60\n",
      "61\n",
      "out of loop 61\n"
     ]
    }
   ],
   "source": [
    "## While loop\n",
    "i = 25\n",
    "while i <= 60:\n",
    "    i = i+1\n",
    "    print(i)\n",
    "print(\"out of loop\",i)"
   ]
  },
  {
   "cell_type": "markdown",
   "id": "8e5db512-251c-4b5d-84c1-3baf7dbea6c3",
   "metadata": {},
   "source": [
    "## For Loop"
   ]
  },
  {
   "cell_type": "code",
   "execution_count": 4,
   "id": "c21e3296-c600-4ef7-8f79-bb1b80a566ad",
   "metadata": {},
   "outputs": [],
   "source": [
    "l = [1,2,3,4, \"Apple\",\"Banana\", \"Madhan\"]"
   ]
  },
  {
   "cell_type": "code",
   "execution_count": 6,
   "id": "e1406fd9-76c2-4b1d-b6d2-d32a96f0bbf6",
   "metadata": {},
   "outputs": [
    {
     "name": "stdout",
     "output_type": "stream",
     "text": [
      "1\n",
      "2\n",
      "3\n",
      "4\n",
      "Apple\n",
      "Banana\n",
      "Madhan\n"
     ]
    }
   ],
   "source": [
    "for x in l:   ## for is for iterating through items in list\n",
    "    print(x)"
   ]
  },
  {
   "cell_type": "code",
   "execution_count": 7,
   "id": "4d76bebe-aefe-4a01-9eb0-c7a5807a8999",
   "metadata": {},
   "outputs": [],
   "source": [
    "fruits = \"MANGO\""
   ]
  },
  {
   "cell_type": "code",
   "execution_count": 8,
   "id": "c0aeb344-cb84-4470-8958-0a84c3922c44",
   "metadata": {},
   "outputs": [
    {
     "data": {
      "text/plain": [
       "'N'"
      ]
     },
     "execution_count": 8,
     "metadata": {},
     "output_type": "execute_result"
    }
   ],
   "source": [
    "fruits[2]"
   ]
  },
  {
   "cell_type": "markdown",
   "id": "1035d146-6b2c-4c4a-b8eb-a04287878a51",
   "metadata": {},
   "source": [
    "### Nested loops"
   ]
  },
  {
   "cell_type": "code",
   "execution_count": 7,
   "id": "676054e2-a953-4c13-92cc-a90c64a7886f",
   "metadata": {},
   "outputs": [
    {
     "name": "stdout",
     "output_type": "stream",
     "text": [
      "1\n",
      "4\n",
      "7\n",
      "10\n",
      "13\n",
      "16\n",
      "19\n"
     ]
    }
   ],
   "source": [
    "## range\n",
    "for g in range(1,20,3):\n",
    "    print(g)"
   ]
  },
  {
   "cell_type": "code",
   "execution_count": 16,
   "id": "4aec7f69-5fed-4864-9786-f475d57647a5",
   "metadata": {},
   "outputs": [
    {
     "name": "stdout",
     "output_type": "stream",
     "text": [
      "*\n",
      "**\n",
      "***\n",
      "****\n",
      "*****\n",
      "******\n",
      "*******\n"
     ]
    }
   ],
   "source": [
    "## nested loops \n",
    "\n",
    "n = 7 \n",
    "\n",
    "for i in range(0,n):\n",
    "    for j in range(0,i+1):\n",
    "        print(\"*\", end=\"\")\n",
    "    print(\"\")\n",
    "    "
   ]
  },
  {
   "cell_type": "code",
   "execution_count": null,
   "id": "ae0e1e90-62f4-4a9f-b994-ab7b7cc6e384",
   "metadata": {},
   "outputs": [],
   "source": [
    "## Loops Control Break and Continue \n",
    "\n",
    "# break will stop the loop\n",
    "## Continue will skill only one step after its written\n"
   ]
  }
 ],
 "metadata": {
  "kernelspec": {
   "display_name": "Python 3 (ipykernel)",
   "language": "python",
   "name": "python3"
  },
  "language_info": {
   "codemirror_mode": {
    "name": "ipython",
    "version": 3
   },
   "file_extension": ".py",
   "mimetype": "text/x-python",
   "name": "python",
   "nbconvert_exporter": "python",
   "pygments_lexer": "ipython3",
   "version": "3.10.8"
  }
 },
 "nbformat": 4,
 "nbformat_minor": 5
}
