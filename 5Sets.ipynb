{
 "cells": [
  {
   "cell_type": "markdown",
   "id": "0308d20d-e80d-45b1-b3b3-7cd175003b5f",
   "metadata": {},
   "source": [
    "### SETS"
   ]
  },
  {
   "cell_type": "code",
   "execution_count": 1,
   "id": "6d6b2fbd-5a19-4221-9b20-3a8981f71e70",
   "metadata": {},
   "outputs": [],
   "source": [
    "s = {}"
   ]
  },
  {
   "cell_type": "code",
   "execution_count": 2,
   "id": "7ce9b119-9438-45ac-832c-de22f5ce83a8",
   "metadata": {},
   "outputs": [
    {
     "data": {
      "text/plain": [
       "dict"
      ]
     },
     "execution_count": 2,
     "metadata": {},
     "output_type": "execute_result"
    }
   ],
   "source": [
    "type(s)"
   ]
  },
  {
   "cell_type": "code",
   "execution_count": 3,
   "id": "bdf4742d-d86e-4787-835c-5a9f65c1ac9d",
   "metadata": {},
   "outputs": [],
   "source": [
    "s1 = {1,2,3,4,5}"
   ]
  },
  {
   "cell_type": "code",
   "execution_count": 4,
   "id": "0db84bf6-b91e-4314-86f9-f96f727204df",
   "metadata": {},
   "outputs": [
    {
     "data": {
      "text/plain": [
       "set"
      ]
     },
     "execution_count": 4,
     "metadata": {},
     "output_type": "execute_result"
    }
   ],
   "source": [
    "type(s1)"
   ]
  },
  {
   "cell_type": "code",
   "execution_count": 5,
   "id": "0e98bcb6-c3f7-4079-92ba-7b74c49f4ed8",
   "metadata": {},
   "outputs": [],
   "source": [
    "t2 = {1,2,435,5465,343,3,3,5,5,78,77,8,8,9,9,23,78,90}"
   ]
  },
  {
   "cell_type": "code",
   "execution_count": 7,
   "id": "71af851b-feec-4ddf-9ab2-7865c779b3b5",
   "metadata": {},
   "outputs": [
    {
     "data": {
      "text/plain": [
       "{1, 2, 3, 5, 8, 9, 23, 77, 78, 90, 343, 435, 5465}"
      ]
     },
     "execution_count": 7,
     "metadata": {},
     "output_type": "execute_result"
    }
   ],
   "source": [
    "t2 \n",
    "\n",
    "## set is a collection which store information in unique , removes duplicates."
   ]
  },
  {
   "cell_type": "code",
   "execution_count": 8,
   "id": "6314e98d-b091-4196-9b91-9277336e1909",
   "metadata": {},
   "outputs": [],
   "source": [
    "## conversion of list,tuple,set is possible"
   ]
  },
  {
   "cell_type": "code",
   "execution_count": 9,
   "id": "426ccce6-630e-4dfe-914b-c5dc37a45053",
   "metadata": {},
   "outputs": [
    {
     "data": {
      "text/plain": [
       "[1, 2, 3, 5, 8, 9, 77, 78, 435, 23, 5465, 90, 343]"
      ]
     },
     "execution_count": 9,
     "metadata": {},
     "output_type": "execute_result"
    }
   ],
   "source": [
    "list(t2)"
   ]
  },
  {
   "cell_type": "code",
   "execution_count": 10,
   "id": "eae6d17b-950d-4174-af44-76c9e4f8a8ae",
   "metadata": {},
   "outputs": [
    {
     "data": {
      "text/plain": [
       "(1, 2, 3, 5, 8, 9, 77, 78, 435, 23, 5465, 90, 343)"
      ]
     },
     "execution_count": 10,
     "metadata": {},
     "output_type": "execute_result"
    }
   ],
   "source": [
    "tuple(t2)"
   ]
  },
  {
   "cell_type": "code",
   "execution_count": 11,
   "id": "bd221dd8-8e83-4f8b-880e-f28664f8a8a8",
   "metadata": {},
   "outputs": [],
   "source": [
    "## converting to list and back to set . this is useful for remove duplicates when converted to set"
   ]
  },
  {
   "cell_type": "code",
   "execution_count": 12,
   "id": "9ef73d86-011a-4d72-a51f-8d8b4f4cf159",
   "metadata": {},
   "outputs": [],
   "source": [
    "l = list(t2)"
   ]
  },
  {
   "cell_type": "code",
   "execution_count": 13,
   "id": "4ef69658-c0b9-427e-bdcf-b2c0297c518a",
   "metadata": {},
   "outputs": [
    {
     "data": {
      "text/plain": [
       "[1, 2, 3, 5, 8, 9, 77, 78, 435, 23, 5465, 90, 343]"
      ]
     },
     "execution_count": 13,
     "metadata": {},
     "output_type": "execute_result"
    }
   ],
   "source": [
    "l"
   ]
  },
  {
   "cell_type": "code",
   "execution_count": 14,
   "id": "0d1864fc-fe76-477c-a6e7-ff8225fe52a7",
   "metadata": {},
   "outputs": [
    {
     "data": {
      "text/plain": [
       "{1, 2, 3, 5, 8, 9, 23, 77, 78, 90, 343, 435, 5465}"
      ]
     },
     "execution_count": 14,
     "metadata": {},
     "output_type": "execute_result"
    }
   ],
   "source": [
    "set(l)"
   ]
  },
  {
   "cell_type": "code",
   "execution_count": 15,
   "id": "577cc72a-47fd-401e-9f83-0d605b2eb67d",
   "metadata": {},
   "outputs": [],
   "source": [
    "## lists cannot be stored in sets but tuples can. this is because lists are mutable and tuple are immutable"
   ]
  },
  {
   "cell_type": "code",
   "execution_count": 16,
   "id": "ec6c4723-4331-404b-8ea7-4b3202bf8a46",
   "metadata": {},
   "outputs": [
    {
     "ename": "TypeError",
     "evalue": "unhashable type: 'list'",
     "output_type": "error",
     "traceback": [
      "\u001b[0;31m---------------------------------------------------------------------------\u001b[0m",
      "\u001b[0;31mTypeError\u001b[0m                                 Traceback (most recent call last)",
      "Cell \u001b[0;32mIn[16], line 1\u001b[0m\n\u001b[0;32m----> 1\u001b[0m s4 \u001b[38;5;241m=\u001b[39m {\u001b[38;5;241m1\u001b[39m,\u001b[38;5;241m2\u001b[39m,\u001b[38;5;241m3\u001b[39m,\u001b[38;5;241m4\u001b[39m,[\u001b[38;5;241m6\u001b[39m,\u001b[38;5;241m7\u001b[39m,\u001b[38;5;241m8\u001b[39m]}\n",
      "\u001b[0;31mTypeError\u001b[0m: unhashable type: 'list'"
     ]
    }
   ],
   "source": [
    "s4 = {1,2,3,4,[6,7,8]}"
   ]
  },
  {
   "cell_type": "code",
   "execution_count": 17,
   "id": "c163ad17-8025-4993-be54-e31153a71ee5",
   "metadata": {},
   "outputs": [],
   "source": [
    "s5 = {1,2,3,4,(5,6,7,8)}"
   ]
  },
  {
   "cell_type": "code",
   "execution_count": 19,
   "id": "3510932c-adca-4a2e-8532-42f4ce800ccd",
   "metadata": {},
   "outputs": [
    {
     "data": {
      "text/plain": [
       "{(5, 6, 7, 8), 1, 2, 3, 4}"
      ]
     },
     "execution_count": 19,
     "metadata": {},
     "output_type": "execute_result"
    }
   ],
   "source": [
    "s5\n",
    "\n",
    "## tuples are ommutable and hence can be stored"
   ]
  },
  {
   "cell_type": "code",
   "execution_count": 20,
   "id": "f1db9d44-1c63-415d-b02e-1b6048cdc310",
   "metadata": {},
   "outputs": [],
   "source": [
    "## python is case sensitive"
   ]
  },
  {
   "cell_type": "code",
   "execution_count": 21,
   "id": "8a6e770f-7b6d-4be6-acac-473eb0057e52",
   "metadata": {},
   "outputs": [],
   "source": [
    "s6 = {\"Madhan\", \"madhan\", 1,2,3,4}"
   ]
  },
  {
   "cell_type": "code",
   "execution_count": 25,
   "id": "31876e64-acc6-4f8f-83f3-f18f82b14331",
   "metadata": {},
   "outputs": [
    {
     "data": {
      "text/plain": [
       "{1, 2, 3, 4, 'Madhan', 'madhan'}"
      ]
     },
     "execution_count": 25,
     "metadata": {},
     "output_type": "execute_result"
    }
   ],
   "source": [
    "s6\n",
    "## Madhan was not removed becase its case senstive"
   ]
  },
  {
   "cell_type": "code",
   "execution_count": 23,
   "id": "bde720db-5652-4713-a6c9-0d627aed210e",
   "metadata": {},
   "outputs": [],
   "source": [
    "s7 = {\"madhan\", \"madhan\",1,2,3,4}"
   ]
  },
  {
   "cell_type": "code",
   "execution_count": 24,
   "id": "ab770eb2-39ce-4a90-a7a0-687098fee37d",
   "metadata": {},
   "outputs": [
    {
     "data": {
      "text/plain": [
       "{1, 2, 3, 4, 'madhan'}"
      ]
     },
     "execution_count": 24,
     "metadata": {},
     "output_type": "execute_result"
    }
   ],
   "source": [
    "s7"
   ]
  },
  {
   "cell_type": "code",
   "execution_count": 26,
   "id": "9a66b2ec-17a1-41f8-bd0a-24706ef44a6e",
   "metadata": {},
   "outputs": [],
   "source": [
    "## sets are stored diffently in system and hence slicing or indexing will not work"
   ]
  },
  {
   "cell_type": "code",
   "execution_count": 27,
   "id": "37806643-5a79-4550-be2b-45731458c73e",
   "metadata": {},
   "outputs": [
    {
     "ename": "TypeError",
     "evalue": "'set' object is not subscriptable",
     "output_type": "error",
     "traceback": [
      "\u001b[0;31m---------------------------------------------------------------------------\u001b[0m",
      "\u001b[0;31mTypeError\u001b[0m                                 Traceback (most recent call last)",
      "Cell \u001b[0;32mIn[27], line 1\u001b[0m\n\u001b[0;32m----> 1\u001b[0m \u001b[43ms7\u001b[49m\u001b[43m[\u001b[49m\u001b[38;5;241;43m0\u001b[39;49m\u001b[43m]\u001b[49m\n",
      "\u001b[0;31mTypeError\u001b[0m: 'set' object is not subscriptable"
     ]
    }
   ],
   "source": [
    "s7[0]"
   ]
  },
  {
   "cell_type": "code",
   "execution_count": 28,
   "id": "0ab411cd-3f6b-46ea-bfd7-523ed5ef4200",
   "metadata": {},
   "outputs": [
    {
     "ename": "TypeError",
     "evalue": "'set' object is not subscriptable",
     "output_type": "error",
     "traceback": [
      "\u001b[0;31m---------------------------------------------------------------------------\u001b[0m",
      "\u001b[0;31mTypeError\u001b[0m                                 Traceback (most recent call last)",
      "Cell \u001b[0;32mIn[28], line 1\u001b[0m\n\u001b[0;32m----> 1\u001b[0m \u001b[43ms7\u001b[49m\u001b[43m \u001b[49m\u001b[43m[\u001b[49m\u001b[43m:\u001b[49m\u001b[43m:\u001b[49m\u001b[38;5;241;43m-\u001b[39;49m\u001b[38;5;241;43m1\u001b[39;49m\u001b[43m]\u001b[49m\n",
      "\u001b[0;31mTypeError\u001b[0m: 'set' object is not subscriptable"
     ]
    }
   ],
   "source": [
    "s7 [::-1]"
   ]
  },
  {
   "cell_type": "code",
   "execution_count": 29,
   "id": "ebbfdd9f-f016-4bdc-9ff7-50bab145508b",
   "metadata": {},
   "outputs": [
    {
     "data": {
      "text/plain": [
       "{1, 2, 3, 4, 'madhan'}"
      ]
     },
     "execution_count": 29,
     "metadata": {},
     "output_type": "execute_result"
    }
   ],
   "source": [
    "s7"
   ]
  },
  {
   "cell_type": "code",
   "execution_count": 30,
   "id": "7fcb2dbd-e186-4897-b455-5012a2eb878e",
   "metadata": {},
   "outputs": [
    {
     "name": "stdout",
     "output_type": "stream",
     "text": [
      "1\n",
      "2\n",
      "3\n",
      "4\n",
      "madhan\n"
     ]
    }
   ],
   "source": [
    "for i in s7:\n",
    "    print(i)"
   ]
  },
  {
   "cell_type": "code",
   "execution_count": 31,
   "id": "981ff1d7-68d3-488b-a6fc-bcf406cb8488",
   "metadata": {},
   "outputs": [],
   "source": [
    "s7.add(56)"
   ]
  },
  {
   "cell_type": "code",
   "execution_count": 32,
   "id": "f7b82c49-6db7-4c9f-8442-90133fa7e90c",
   "metadata": {},
   "outputs": [
    {
     "data": {
      "text/plain": [
       "{1, 2, 3, 4, 56, 'madhan'}"
      ]
     },
     "execution_count": 32,
     "metadata": {},
     "output_type": "execute_result"
    }
   ],
   "source": [
    "s7"
   ]
  },
  {
   "cell_type": "code",
   "execution_count": 33,
   "id": "b711555a-8b39-4cb1-8f1f-db612e08f199",
   "metadata": {},
   "outputs": [],
   "source": [
    "s7.add(\"pwskils\")"
   ]
  },
  {
   "cell_type": "code",
   "execution_count": 34,
   "id": "4e250959-61db-410d-a112-329c11ff86dc",
   "metadata": {},
   "outputs": [
    {
     "data": {
      "text/plain": [
       "{1, 2, 3, 4, 56, 'madhan', 'pwskils'}"
      ]
     },
     "execution_count": 34,
     "metadata": {},
     "output_type": "execute_result"
    }
   ],
   "source": [
    "s7"
   ]
  },
  {
   "cell_type": "code",
   "execution_count": 35,
   "id": "df99b304-353b-440a-b68f-a6dfb9b4d56d",
   "metadata": {},
   "outputs": [
    {
     "data": {
      "text/plain": [
       "1"
      ]
     },
     "execution_count": 35,
     "metadata": {},
     "output_type": "execute_result"
    }
   ],
   "source": [
    "s7.pop()"
   ]
  },
  {
   "cell_type": "code",
   "execution_count": 36,
   "id": "d5e66a2b-d21d-45a7-97de-4d77912db5b7",
   "metadata": {},
   "outputs": [
    {
     "data": {
      "text/plain": [
       "{2, 3, 4, 56, 'madhan', 'pwskils'}"
      ]
     },
     "execution_count": 36,
     "metadata": {},
     "output_type": "execute_result"
    }
   ],
   "source": [
    "s7"
   ]
  },
  {
   "cell_type": "code",
   "execution_count": 37,
   "id": "e9ddff3e-5c33-45c9-ab8f-8fbf91328d96",
   "metadata": {},
   "outputs": [
    {
     "data": {
      "text/plain": [
       "2"
      ]
     },
     "execution_count": 37,
     "metadata": {},
     "output_type": "execute_result"
    }
   ],
   "source": [
    "s7.pop()"
   ]
  },
  {
   "cell_type": "code",
   "execution_count": 39,
   "id": "47cbd1d1-857a-4570-8fc0-6fa1409e96e2",
   "metadata": {},
   "outputs": [
    {
     "data": {
      "text/plain": [
       "{3, 4, 56, 'madhan', 'pwskils'}"
      ]
     },
     "execution_count": 39,
     "metadata": {},
     "output_type": "execute_result"
    }
   ],
   "source": [
    "s7\n",
    "\n",
    "## pop function pop elements based on the hashing done internally ."
   ]
  },
  {
   "cell_type": "code",
   "execution_count": 40,
   "id": "05bf4df2-f226-4ac1-bd48-e708205cde51",
   "metadata": {},
   "outputs": [],
   "source": [
    "s7.clear()"
   ]
  },
  {
   "cell_type": "code",
   "execution_count": 41,
   "id": "17ec17cc-3fa7-4956-8d9f-9365dbf19898",
   "metadata": {},
   "outputs": [
    {
     "data": {
      "text/plain": [
       "set()"
      ]
     },
     "execution_count": 41,
     "metadata": {},
     "output_type": "execute_result"
    }
   ],
   "source": [
    "s7"
   ]
  },
  {
   "cell_type": "code",
   "execution_count": 42,
   "id": "30415fdc-a99f-4279-bb72-90b77cb6972c",
   "metadata": {},
   "outputs": [],
   "source": [
    "s8 = {1,2,3,4}\n",
    "s9 = {1,2,3,5}"
   ]
  },
  {
   "cell_type": "code",
   "execution_count": 43,
   "id": "55aed91a-ff6e-4e25-81e6-be6c0aa51425",
   "metadata": {},
   "outputs": [
    {
     "data": {
      "text/plain": [
       "{4}"
      ]
     },
     "execution_count": 43,
     "metadata": {},
     "output_type": "execute_result"
    }
   ],
   "source": [
    "s8.difference(s9)"
   ]
  },
  {
   "cell_type": "code",
   "execution_count": 45,
   "id": "4cc88c60-1bcf-46a9-9175-71733ad9c19e",
   "metadata": {},
   "outputs": [
    {
     "data": {
      "text/plain": [
       "{5}"
      ]
     },
     "execution_count": 45,
     "metadata": {},
     "output_type": "execute_result"
    }
   ],
   "source": [
    "s9.difference(s8)"
   ]
  },
  {
   "cell_type": "code",
   "execution_count": null,
   "id": "1c56bcab-f0be-4a74-8be9-1f8b75419b22",
   "metadata": {},
   "outputs": [],
   "source": []
  }
 ],
 "metadata": {
  "kernelspec": {
   "display_name": "Python 3 (ipykernel)",
   "language": "python",
   "name": "python3"
  },
  "language_info": {
   "codemirror_mode": {
    "name": "ipython",
    "version": 3
   },
   "file_extension": ".py",
   "mimetype": "text/x-python",
   "name": "python",
   "nbconvert_exporter": "python",
   "pygments_lexer": "ipython3",
   "version": "3.10.8"
  }
 },
 "nbformat": 4,
 "nbformat_minor": 5
}
