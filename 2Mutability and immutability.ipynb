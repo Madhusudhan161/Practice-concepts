{
 "cells": [
  {
   "cell_type": "markdown",
   "id": "8f70447b-9903-4a90-88f5-ff482a3c02e0",
   "metadata": {},
   "source": [
    "#Reverse annd Forward indexing"
   ]
  },
  {
   "cell_type": "code",
   "execution_count": 2,
   "id": "dad11216-8133-461e-82e8-927462efb145",
   "metadata": {},
   "outputs": [],
   "source": [
    "s = \"Madhan\" \n",
    "\n",
    "\"\"\"here 0,1,2 are assingned m=0,a=1,d=2\n",
    "reverse index is -1,-2,-3 assinged to n=-1,a=-2,h=-3,d=-4"
   ]
  },
  {
   "cell_type": "code",
   "execution_count": 3,
   "id": "d6347f24-e874-4055-a9b1-97c164b3951a",
   "metadata": {},
   "outputs": [
    {
     "data": {
      "text/plain": [
       "'d'"
      ]
     },
     "execution_count": 3,
     "metadata": {},
     "output_type": "execute_result"
    }
   ],
   "source": [
    "s[2]"
   ]
  },
  {
   "cell_type": "code",
   "execution_count": 4,
   "id": "80d7debe-6c5d-4de0-8007-761c2df528f5",
   "metadata": {},
   "outputs": [
    {
     "data": {
      "text/plain": [
       "'d'"
      ]
     },
     "execution_count": 4,
     "metadata": {},
     "output_type": "execute_result"
    }
   ],
   "source": [
    "s[-4]"
   ]
  },
  {
   "cell_type": "markdown",
   "id": "b5a190ab-02f6-4e42-861b-b05d3a9cbeae",
   "metadata": {},
   "source": [
    "### LIST"
   ]
  },
  {
   "cell_type": "code",
   "execution_count": 8,
   "id": "53420ad2-c13d-45a4-8a1c-6e58b8bc5a13",
   "metadata": {},
   "outputs": [],
   "source": [
    "l = [1,2,3,4,5, \"madhan\", \"pwskills\", True , 4+7j]"
   ]
  },
  {
   "cell_type": "code",
   "execution_count": 9,
   "id": "ada858db-cb7c-4b39-aa9b-c6e1abb26a71",
   "metadata": {},
   "outputs": [
    {
     "data": {
      "text/plain": [
       "list"
      ]
     },
     "execution_count": 9,
     "metadata": {},
     "output_type": "execute_result"
    }
   ],
   "source": [
    "type(l)"
   ]
  },
  {
   "cell_type": "code",
   "execution_count": 10,
   "id": "6ab2cfbb-4697-40c8-858e-b213723d6118",
   "metadata": {},
   "outputs": [
    {
     "data": {
      "text/plain": [
       "True"
      ]
     },
     "execution_count": 10,
     "metadata": {},
     "output_type": "execute_result"
    }
   ],
   "source": [
    "l[7]"
   ]
  },
  {
   "cell_type": "code",
   "execution_count": 11,
   "id": "4bad2ed8-997e-430a-8fe0-c4bae5df6fe1",
   "metadata": {},
   "outputs": [
    {
     "data": {
      "text/plain": [
       "True"
      ]
     },
     "execution_count": 11,
     "metadata": {},
     "output_type": "execute_result"
    }
   ],
   "source": [
    "l[-2]"
   ]
  },
  {
   "cell_type": "markdown",
   "id": "ce138263-e36d-42cc-9d83-0990826e6ff2",
   "metadata": {},
   "source": [
    "## strings are immutable. lists are mutable"
   ]
  },
  {
   "cell_type": "code",
   "execution_count": 12,
   "id": "cc444550-388f-4a48-b1bb-1e09697b1522",
   "metadata": {},
   "outputs": [
    {
     "data": {
      "text/plain": [
       "[1, 2, 3, 4, 5, 'madhan', 'pwskills', True, (4+7j)]"
      ]
     },
     "execution_count": 12,
     "metadata": {},
     "output_type": "execute_result"
    }
   ],
   "source": [
    "l"
   ]
  },
  {
   "cell_type": "code",
   "execution_count": 13,
   "id": "76545c2f-75d4-4195-b12b-959418163d6d",
   "metadata": {},
   "outputs": [],
   "source": [
    "l[6] = 100"
   ]
  },
  {
   "cell_type": "code",
   "execution_count": 14,
   "id": "dc7389bf-bbb7-4e1a-a284-90b8ce429886",
   "metadata": {},
   "outputs": [
    {
     "data": {
      "text/plain": [
       "[1, 2, 3, 4, 5, 'madhan', 100, True, (4+7j)]"
      ]
     },
     "execution_count": 14,
     "metadata": {},
     "output_type": "execute_result"
    }
   ],
   "source": [
    "l"
   ]
  },
  {
   "cell_type": "code",
   "execution_count": 15,
   "id": "32c743bd-1b46-4257-b86a-3467ffc27e3e",
   "metadata": {},
   "outputs": [
    {
     "data": {
      "text/plain": [
       "'Madhan'"
      ]
     },
     "execution_count": 15,
     "metadata": {},
     "output_type": "execute_result"
    }
   ],
   "source": [
    "s"
   ]
  },
  {
   "cell_type": "code",
   "execution_count": 16,
   "id": "306c874e-6923-42bd-b5cf-e45009960116",
   "metadata": {},
   "outputs": [
    {
     "ename": "TypeError",
     "evalue": "'str' object does not support item assignment",
     "output_type": "error",
     "traceback": [
      "\u001b[0;31m---------------------------------------------------------------------------\u001b[0m",
      "\u001b[0;31mTypeError\u001b[0m                                 Traceback (most recent call last)",
      "Cell \u001b[0;32mIn[16], line 1\u001b[0m\n\u001b[0;32m----> 1\u001b[0m \u001b[43ms\u001b[49m\u001b[43m[\u001b[49m\u001b[38;5;241;43m2\u001b[39;49m\u001b[43m]\u001b[49m \u001b[38;5;241m=\u001b[39m \u001b[38;5;124m\"\u001b[39m\u001b[38;5;124ma\u001b[39m\u001b[38;5;124m\"\u001b[39m\n",
      "\u001b[0;31mTypeError\u001b[0m: 'str' object does not support item assignment"
     ]
    }
   ],
   "source": [
    "s[2] = \"a\""
   ]
  },
  {
   "cell_type": "code",
   "execution_count": null,
   "id": "c2a8a679-e87b-41e8-825d-ca74ee9b0add",
   "metadata": {},
   "outputs": [],
   "source": []
  }
 ],
 "metadata": {
  "kernelspec": {
   "display_name": "Python 3 (ipykernel)",
   "language": "python",
   "name": "python3"
  },
  "language_info": {
   "codemirror_mode": {
    "name": "ipython",
    "version": 3
   },
   "file_extension": ".py",
   "mimetype": "text/x-python",
   "name": "python",
   "nbconvert_exporter": "python",
   "pygments_lexer": "ipython3",
   "version": "3.10.8"
  }
 },
 "nbformat": 4,
 "nbformat_minor": 5
}
