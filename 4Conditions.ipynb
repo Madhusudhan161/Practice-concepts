{
 "cells": [
  {
   "cell_type": "markdown",
   "id": "14d16a4e-8467-4804-b53f-2f6dd091c124",
   "metadata": {},
   "source": [
    "## IF, IFelse, FOR , While, LOOp"
   ]
  },
  {
   "cell_type": "code",
   "execution_count": 3,
   "id": "86efffa5-c65a-4dc1-9ba2-2020b6fe2cf4",
   "metadata": {},
   "outputs": [],
   "source": [
    "a = 10\n",
    "if a > 10:\n",
    "    print(\"this will execute once a is  greater than 10\")"
   ]
  },
  {
   "cell_type": "code",
   "execution_count": 4,
   "id": "be9e175b-9fa9-43bd-8afe-3f837400a171",
   "metadata": {},
   "outputs": [
    {
     "data": {
      "text/plain": [
       "False"
      ]
     },
     "execution_count": 4,
     "metadata": {},
     "output_type": "execute_result"
    }
   ],
   "source": [
    "a > 10"
   ]
  },
  {
   "cell_type": "code",
   "execution_count": 5,
   "id": "71e09b6f-21fb-4f04-a24d-991ded3bc0bc",
   "metadata": {},
   "outputs": [
    {
     "name": "stdout",
     "output_type": "stream",
     "text": [
      "this will be not be able to perform once if cant perform\n"
     ]
    }
   ],
   "source": [
    "a = 10 \n",
    "if a > 10 :\n",
    "    print(\"this will not be excuted until a is true\")\n",
    "else :\n",
    "    print(\"this will be not be able to perform once if cant perform\")"
   ]
  },
  {
   "cell_type": "code",
   "execution_count": 6,
   "id": "df87353a-9415-46bd-8c35-b8f7a24b1b87",
   "metadata": {},
   "outputs": [
    {
     "name": "stdout",
     "output_type": "stream",
     "text": [
      "this is checking the condition where a is equal or greater than 10\n"
     ]
    }
   ],
   "source": [
    "a = 10 \n",
    "if a > 10 :\n",
    "    print(\"this will be not executed until a is true\")\n",
    "elif a >= 10:\n",
    "    print(\"this is checking the condition where a is equal or greater than 10\")\n",
    "else :\n",
    "    print(\"this will not be able to perform once if cant excecute\")"
   ]
  },
  {
   "cell_type": "code",
   "execution_count": 7,
   "id": "213b606b-4811-43a1-b14e-15e5cd1833d3",
   "metadata": {},
   "outputs": [
    {
     "name": "stdin",
     "output_type": "stream",
     "text": [
      "enter a number for a 2\n"
     ]
    },
    {
     "name": "stdout",
     "output_type": "stream",
     "text": [
      "this will not be able to perform once if cant execute\n"
     ]
    }
   ],
   "source": [
    "a = int(input(\"enter a number for a\"))\n",
    "if a > 10:\n",
    "    print(\"this will not be executed until a is true\")\n",
    "elif a >= 10 :\n",
    "    print(\"this is checking the conditon where a is equal or greater than 10\")\n",
    "else :\n",
    "    print(\"this will not be able to perform once if cant execute\")"
   ]
  },
  {
   "cell_type": "markdown",
   "id": "d2b70f61-6a38-40e3-8033-7c73c417c237",
   "metadata": {},
   "source": [
    "## Loops"
   ]
  },
  {
   "cell_type": "code",
   "execution_count": 7,
   "id": "e5f9ca23-24da-4c16-83bc-cc46a2365947",
   "metadata": {},
   "outputs": [
    {
     "name": "stdout",
     "output_type": "stream",
     "text": [
      "1\n",
      "2\n"
     ]
    }
   ],
   "source": [
    "n = 10\n",
    "i = 1\n",
    "while i < n :\n",
    "    print(i)\n",
    "    i=i+1\n",
    "    if i == 3:\n",
    "        break\n",
    "else :\n",
    "    print (\"this will be executed once while is done\")"
   ]
  },
  {
   "cell_type": "markdown",
   "id": "eba4f489-6235-44fc-9290-94428a72c6b6",
   "metadata": {},
   "source": [
    "## Contiune"
   ]
  },
  {
   "cell_type": "code",
   "execution_count": 8,
   "id": "1ee78a18-f4ee-48fb-a9f0-2c3075afc99e",
   "metadata": {},
   "outputs": [
    {
     "name": "stdout",
     "output_type": "stream",
     "text": [
      "2\n",
      "4\n",
      "5\n",
      "6\n",
      "7\n",
      "8\n",
      "9\n",
      "10\n",
      "this will execute once while is fully complete\n"
     ]
    }
   ],
   "source": [
    "n = 10\n",
    "i = 1\n",
    "while i < n:\n",
    "    \n",
    "    i = i+1\n",
    "    if i == 3:\n",
    "        continue # contine, once satisfied will skip the whatever is below it nad carry on the loop\n",
    "    print(i)\n",
    "else:\n",
    "    print(\"this will execute once while is fully complete\")"
   ]
  },
  {
   "cell_type": "markdown",
   "id": "6e0038a8-e228-4fb1-9ff1-604fe2a64fdb",
   "metadata": {},
   "source": [
    "## For loop"
   ]
  },
  {
   "cell_type": "code",
   "execution_count": 9,
   "id": "ef5ff383-aeb4-4e88-b8e3-8bbfb85828ec",
   "metadata": {},
   "outputs": [
    {
     "name": "stdout",
     "output_type": "stream",
     "text": [
      "M\n",
      "a\n",
      "d\n",
      "h\n",
      "a\n",
      "n\n"
     ]
    }
   ],
   "source": [
    "s = \"Madhan\"\n",
    "for i in s:\n",
    "    print(i)"
   ]
  },
  {
   "cell_type": "code",
   "execution_count": 10,
   "id": "3388434a-2dc6-490a-923a-c7aa2951db1a",
   "metadata": {},
   "outputs": [],
   "source": [
    "l = [23, 34, 33.66, \"pwskils\", True, 5+3j]"
   ]
  },
  {
   "cell_type": "code",
   "execution_count": 12,
   "id": "55297240-c5d5-4edc-88b1-dc764400d1c2",
   "metadata": {},
   "outputs": [
    {
     "name": "stdout",
     "output_type": "stream",
     "text": [
      "23\n",
      "34\n",
      "33.66\n",
      "pwskils\n",
      "True\n",
      "(5+3j)\n",
      "this will be exwcuted only after for loop is exhausted itself\n"
     ]
    }
   ],
   "source": [
    "for j in l:\n",
    "    print(j)\n",
    "else:\n",
    "    print(\"this will be exwcuted only after for loop is exhausted itself\")"
   ]
  },
  {
   "cell_type": "markdown",
   "id": "0fa9dbaa-a3c3-4e9f-acca-4e087d9776a5",
   "metadata": {},
   "source": [
    "## Range"
   ]
  },
  {
   "cell_type": "code",
   "execution_count": 13,
   "id": "5b500164-f8a4-4ac6-b1aa-fe9a36e65dc2",
   "metadata": {},
   "outputs": [
    {
     "data": {
      "text/plain": [
       "range(0, 10)"
      ]
     },
     "execution_count": 13,
     "metadata": {},
     "output_type": "execute_result"
    }
   ],
   "source": [
    "range(10)"
   ]
  },
  {
   "cell_type": "code",
   "execution_count": 14,
   "id": "936b7e6b-16aa-446f-9d24-ed6b89745f33",
   "metadata": {},
   "outputs": [
    {
     "data": {
      "text/plain": [
       "[0, 1, 2, 3, 4, 5, 6, 7, 8, 9]"
      ]
     },
     "execution_count": 14,
     "metadata": {},
     "output_type": "execute_result"
    }
   ],
   "source": [
    "list(range(10))"
   ]
  },
  {
   "cell_type": "code",
   "execution_count": 15,
   "id": "8ec92759-6235-4f71-8369-88a66667fdfd",
   "metadata": {},
   "outputs": [],
   "source": [
    "# Range will give range of numbers excluding the last digit. use list funtion to show the items "
   ]
  },
  {
   "cell_type": "code",
   "execution_count": null,
   "id": "d52c0959-9a5e-4ca8-9bd1-4e8c350f858c",
   "metadata": {},
   "outputs": [],
   "source": []
  }
 ],
 "metadata": {
  "kernelspec": {
   "display_name": "Python 3 (ipykernel)",
   "language": "python",
   "name": "python3"
  },
  "language_info": {
   "codemirror_mode": {
    "name": "ipython",
    "version": 3
   },
   "file_extension": ".py",
   "mimetype": "text/x-python",
   "name": "python",
   "nbconvert_exporter": "python",
   "pygments_lexer": "ipython3",
   "version": "3.10.8"
  }
 },
 "nbformat": 4,
 "nbformat_minor": 5
}
