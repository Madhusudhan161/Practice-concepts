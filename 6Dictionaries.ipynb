{
 "cells": [
  {
   "cell_type": "code",
   "execution_count": 1,
   "id": "50d168b6-89fa-47b1-9ed6-0914bff34ac5",
   "metadata": {},
   "outputs": [],
   "source": [
    "d = {}"
   ]
  },
  {
   "cell_type": "code",
   "execution_count": 2,
   "id": "ed88c74f-b143-4567-aa68-fbc1f7ebde8e",
   "metadata": {},
   "outputs": [
    {
     "data": {
      "text/plain": [
       "dict"
      ]
     },
     "execution_count": 2,
     "metadata": {},
     "output_type": "execute_result"
    }
   ],
   "source": [
    "type(d)"
   ]
  },
  {
   "cell_type": "code",
   "execution_count": 3,
   "id": "8b493a3e-b3be-4c65-9061-f57c5790e0fe",
   "metadata": {},
   "outputs": [],
   "source": [
    "d1 = {'name':'Madhusudhan','email':'MM@gmail.com','Number':85865656}"
   ]
  },
  {
   "cell_type": "code",
   "execution_count": 4,
   "id": "eca37f17-0be6-4b3a-bca5-6ef3dac204cf",
   "metadata": {},
   "outputs": [
    {
     "data": {
      "text/plain": [
       "{'name': 'Madhusudhan', 'email': 'MM@gmail.com', 'Number': 85865656}"
      ]
     },
     "execution_count": 4,
     "metadata": {},
     "output_type": "execute_result"
    }
   ],
   "source": [
    "d1"
   ]
  },
  {
   "cell_type": "code",
   "execution_count": 10,
   "id": "1245ef55-9f4b-46a4-a5af-463aa1334cc9",
   "metadata": {},
   "outputs": [
    {
     "data": {
      "text/plain": [
       "dict"
      ]
     },
     "execution_count": 10,
     "metadata": {},
     "output_type": "execute_result"
    }
   ],
   "source": [
    "type(d1)"
   ]
  },
  {
   "cell_type": "code",
   "execution_count": 5,
   "id": "a7d4b960-3d5b-4d01-a6d3-507b97301b19",
   "metadata": {},
   "outputs": [],
   "source": [
    "d2 = {'name': 'Madhan', 'name': 'Madhusudhan'}"
   ]
  },
  {
   "cell_type": "code",
   "execution_count": 12,
   "id": "9d9ec3bf-b90d-468c-b156-f009d22e5c6e",
   "metadata": {},
   "outputs": [
    {
     "data": {
      "text/plain": [
       "{'name': 'Madhusudhan'}"
      ]
     },
     "execution_count": 12,
     "metadata": {},
     "output_type": "execute_result"
    }
   ],
   "source": [
    "d2\n",
    "\n",
    "## keys cannot be repeated just like a real dictionary\n",
    "## first key 'name' was overridden with 'Madhusudhan' with 'Madhan'"
   ]
  },
  {
   "cell_type": "code",
   "execution_count": 19,
   "id": "cd59d32f-5157-49d1-8a06-341edad3361a",
   "metadata": {},
   "outputs": [],
   "source": [
    " d3= {45455 : 'Madhan'}  ## int / number can be used as keys"
   ]
  },
  {
   "cell_type": "code",
   "execution_count": 14,
   "id": "ad75cada-5b87-425e-9c88-2e52eaf041ef",
   "metadata": {},
   "outputs": [
    {
     "data": {
      "text/plain": [
       "{45455: 'Madhan'}"
      ]
     },
     "execution_count": 14,
     "metadata": {},
     "output_type": "execute_result"
    }
   ],
   "source": [
    "d3"
   ]
  },
  {
   "cell_type": "code",
   "execution_count": 20,
   "id": "58f99276-d043-4003-8c68-529c90c89fb9",
   "metadata": {},
   "outputs": [],
   "source": [
    "d4 = {True : 'helo'}  ## Boolean values can be used as keys"
   ]
  },
  {
   "cell_type": "code",
   "execution_count": 17,
   "id": "ee7fd239-d5be-4306-8664-e03fca0b4f80",
   "metadata": {},
   "outputs": [
    {
     "data": {
      "text/plain": [
       "{True: 'helo'}"
      ]
     },
     "execution_count": 17,
     "metadata": {},
     "output_type": "execute_result"
    }
   ],
   "source": [
    "d4"
   ]
  },
  {
   "cell_type": "code",
   "execution_count": 25,
   "id": "720bd6df-da7a-416c-b7c4-161e3f5f77cb",
   "metadata": {},
   "outputs": [],
   "source": [
    "d7 = {34.56 : 'abc' }  ## floats can be used as keys"
   ]
  },
  {
   "cell_type": "code",
   "execution_count": 24,
   "id": "4dbd9a3c-23d0-4901-b472-16c286a1d0b2",
   "metadata": {},
   "outputs": [
    {
     "data": {
      "text/plain": [
       "{34.56: 'abc'}"
      ]
     },
     "execution_count": 24,
     "metadata": {},
     "output_type": "execute_result"
    }
   ],
   "source": [
    "d7   "
   ]
  },
  {
   "cell_type": "code",
   "execution_count": 18,
   "id": "56a001f4-643a-477c-8c04-9f1c3edc9f18",
   "metadata": {},
   "outputs": [
    {
     "ename": "SyntaxError",
     "evalue": "incomplete input (770192786.py, line 1)",
     "output_type": "error",
     "traceback": [
      "\u001b[0;36m  Cell \u001b[0;32mIn[18], line 1\u001b[0;36m\u001b[0m\n\u001b[0;31m    d5 = {#df : sre}\u001b[0m\n\u001b[0m                    ^\u001b[0m\n\u001b[0;31mSyntaxError\u001b[0m\u001b[0;31m:\u001b[0m incomplete input\n"
     ]
    }
   ],
   "source": [
    "d5 = {#df : sre}"
   ]
  },
  {
   "cell_type": "code",
   "execution_count": 22,
   "id": "aa1469d6-2906-45ad-b4c2-97c219ea9e4e",
   "metadata": {},
   "outputs": [
    {
     "ename": "SyntaxError",
     "evalue": "invalid syntax (3987279121.py, line 1)",
     "output_type": "error",
     "traceback": [
      "\u001b[0;36m  Cell \u001b[0;32mIn[22], line 1\u001b[0;36m\u001b[0m\n\u001b[0;31m    d6 = {@ : 'abc'} ## special characters are not allowed as keys\u001b[0m\n\u001b[0m          ^\u001b[0m\n\u001b[0;31mSyntaxError\u001b[0m\u001b[0;31m:\u001b[0m invalid syntax\n"
     ]
    }
   ],
   "source": [
    "d6 = {@ : 'abc'} ## special characters are not allowed as keys"
   ]
  },
  {
   "cell_type": "code",
   "execution_count": 27,
   "id": "54ea47af-22a4-457f-8ca3-86c0a203b529",
   "metadata": {},
   "outputs": [
    {
     "ename": "TypeError",
     "evalue": "unhashable type: 'list'",
     "output_type": "error",
     "traceback": [
      "\u001b[0;31m---------------------------------------------------------------------------\u001b[0m",
      "\u001b[0;31mTypeError\u001b[0m                                 Traceback (most recent call last)",
      "Cell \u001b[0;32mIn[27], line 1\u001b[0m\n\u001b[0;32m----> 1\u001b[0m d8 \u001b[38;5;241m=\u001b[39m {[\u001b[38;5;241m1\u001b[39m,\u001b[38;5;241m2\u001b[39m,\u001b[38;5;241m3\u001b[39m] : \u001b[38;5;124m'\u001b[39m\u001b[38;5;124mabc\u001b[39m\u001b[38;5;124m'\u001b[39m}  \u001b[38;5;66;03m## lists cannot be used as keys\u001b[39;00m\n",
      "\u001b[0;31mTypeError\u001b[0m: unhashable type: 'list'"
     ]
    }
   ],
   "source": [
    "d8 = {[1,2,3] : 'abc'}  ## lists cannot be used as keys"
   ]
  },
  {
   "cell_type": "code",
   "execution_count": 30,
   "id": "2f9015f3-82a6-41c0-8bc1-e299ec719009",
   "metadata": {},
   "outputs": [],
   "source": [
    "d9 = {(1,2,3): 'abc'} ## tuples can be used as keys"
   ]
  },
  {
   "cell_type": "code",
   "execution_count": 29,
   "id": "0c930979-beb2-4c7b-be17-9bb48c8cfe25",
   "metadata": {},
   "outputs": [
    {
     "data": {
      "text/plain": [
       "{(1, 2, 3): 'abc'}"
      ]
     },
     "execution_count": 29,
     "metadata": {},
     "output_type": "execute_result"
    }
   ],
   "source": [
    "d9"
   ]
  },
  {
   "cell_type": "code",
   "execution_count": 32,
   "id": "04b6f41a-73bc-405b-9321-e2734d8b9709",
   "metadata": {},
   "outputs": [
    {
     "ename": "TypeError",
     "evalue": "unhashable type: 'set'",
     "output_type": "error",
     "traceback": [
      "\u001b[0;31m---------------------------------------------------------------------------\u001b[0m",
      "\u001b[0;31mTypeError\u001b[0m                                 Traceback (most recent call last)",
      "Cell \u001b[0;32mIn[32], line 1\u001b[0m\n\u001b[0;32m----> 1\u001b[0m d10 \u001b[38;5;241m=\u001b[39m {{\u001b[38;5;241m1\u001b[39m,\u001b[38;5;241m2\u001b[39m,\u001b[38;5;241m3\u001b[39m}:\u001b[38;5;124m'\u001b[39m\u001b[38;5;124mabc\u001b[39m\u001b[38;5;124m'\u001b[39m} \u001b[38;5;66;03m## sets cannot be used as keys\u001b[39;00m\n",
      "\u001b[0;31mTypeError\u001b[0m: unhashable type: 'set'"
     ]
    }
   ],
   "source": [
    "d10 = {{1,2,3}:'abc'} ## sets cannot be used as keys"
   ]
  },
  {
   "cell_type": "code",
   "execution_count": 34,
   "id": "721bd6c8-9183-4adc-93af-535dba025490",
   "metadata": {},
   "outputs": [
    {
     "ename": "TypeError",
     "evalue": "unhashable type: 'dict'",
     "output_type": "error",
     "traceback": [
      "\u001b[0;31m---------------------------------------------------------------------------\u001b[0m",
      "\u001b[0;31mTypeError\u001b[0m                                 Traceback (most recent call last)",
      "Cell \u001b[0;32mIn[34], line 1\u001b[0m\n\u001b[0;32m----> 1\u001b[0m d11 \u001b[38;5;241m=\u001b[39m {{\u001b[38;5;124m'\u001b[39m\u001b[38;5;124mkey\u001b[39m\u001b[38;5;124m'\u001b[39m:\u001b[38;5;241m123\u001b[39m} : \u001b[38;5;124m\"\u001b[39m\u001b[38;5;124mabc\u001b[39m\u001b[38;5;124m\"\u001b[39m}  \u001b[38;5;66;03m## dictionaries are not useable as keys\u001b[39;00m\n",
      "\u001b[0;31mTypeError\u001b[0m: unhashable type: 'dict'"
     ]
    }
   ],
   "source": [
    "d11 = {{'key':123} : \"abc\"}  ## dictionaries are not useable as keys"
   ]
  },
  {
   "cell_type": "code",
   "execution_count": 35,
   "id": "fba650dc-dc7a-4d4c-ad8c-fdf371808385",
   "metadata": {},
   "outputs": [],
   "source": [
    "d12 = {'Course_name' : ['Data science Masters','Dsa','Java Dsa and System design']}"
   ]
  },
  {
   "cell_type": "code",
   "execution_count": 36,
   "id": "bce85406-4cd6-4fb9-a8c7-39332ef61084",
   "metadata": {},
   "outputs": [
    {
     "data": {
      "text/plain": [
       "{'Course_name': ['Data science Masters', 'Dsa', 'Java Dsa and System design']}"
      ]
     },
     "execution_count": 36,
     "metadata": {},
     "output_type": "execute_result"
    }
   ],
   "source": [
    "d12"
   ]
  },
  {
   "cell_type": "code",
   "execution_count": 39,
   "id": "53d6905b-4068-49c4-9825-46e51d17f7e9",
   "metadata": {},
   "outputs": [],
   "source": [
    "d13 = {'Key': (1,2,3)} ## Tuples can be dictionary"
   ]
  },
  {
   "cell_type": "code",
   "execution_count": 41,
   "id": "dfca6244-9e55-41fc-9a8f-a73906182fdb",
   "metadata": {},
   "outputs": [],
   "source": [
    "d14 = {'key': {1,2,3,4}}  ## Set can be a dictionary"
   ]
  },
  {
   "cell_type": "markdown",
   "id": "07bb8e20-e077-4afd-86c0-7c297d7e420b",
   "metadata": {},
   "source": [
    "### Nested Dictionaries"
   ]
  },
  {
   "cell_type": "code",
   "execution_count": 73,
   "id": "ccf8c0fa-780b-4943-91f0-b0104fa8f1f3",
   "metadata": {},
   "outputs": [],
   "source": [
    "d15 = {'key': {'name':'Madhan','class':'DSM'}} ## dictionaries can be taken as value"
   ]
  },
  {
   "cell_type": "code",
   "execution_count": 74,
   "id": "cdb06637-42dc-4366-b6d3-bb3a10fcb930",
   "metadata": {},
   "outputs": [
    {
     "data": {
      "text/plain": [
       "{'key': {'name': 'Madhan', 'class': 'DSM'}}"
      ]
     },
     "execution_count": 74,
     "metadata": {},
     "output_type": "execute_result"
    }
   ],
   "source": [
    "d15"
   ]
  },
  {
   "cell_type": "code",
   "execution_count": 54,
   "id": "b04d97ec-0377-46fc-9794-a94d43466a71",
   "metadata": {},
   "outputs": [],
   "source": [
    "d16 = {'class' : ['Data Science master','web dev','JDS'],'Start_date':(25,4,26),'Mentor_name':{'Krish','sudhanshu'}}"
   ]
  },
  {
   "cell_type": "code",
   "execution_count": 52,
   "id": "82d7e419-f1fc-47ae-8a0c-b4e27f011153",
   "metadata": {},
   "outputs": [
    {
     "data": {
      "text/plain": [
       "{'Class': ['Data Science master', 'web dev', 'JDS'],\n",
       " 'Start_date': (25, 4, 26),\n",
       " 'Mentor_name': {'Krish', 'sudhanshu'}}"
      ]
     },
     "execution_count": 52,
     "metadata": {},
     "output_type": "execute_result"
    }
   ],
   "source": [
    "d16 ## lists , tuples, sets can be used as values"
   ]
  },
  {
   "cell_type": "code",
   "execution_count": 55,
   "id": "85ad5c49-42d0-4bc2-9589-a8db96f0855e",
   "metadata": {},
   "outputs": [
    {
     "data": {
      "text/plain": [
       "['Data Science master', 'web dev', 'JDS']"
      ]
     },
     "execution_count": 55,
     "metadata": {},
     "output_type": "execute_result"
    }
   ],
   "source": [
    "d16['class']"
   ]
  },
  {
   "cell_type": "code",
   "execution_count": 59,
   "id": "a589c1f7-d1d8-480f-b6c8-3878f3610fbb",
   "metadata": {},
   "outputs": [],
   "source": [
    "d16['timings'] = (12,4,5) ## adding new key value pair"
   ]
  },
  {
   "cell_type": "code",
   "execution_count": 58,
   "id": "db383e29-f740-4637-9878-5ab15bb7b452",
   "metadata": {},
   "outputs": [
    {
     "data": {
      "text/plain": [
       "{'class': ['Data Science master', 'web dev', 'JDS'],\n",
       " 'Start_date': (25, 4, 26),\n",
       " 'Mentor_name': {'Krish', 'sudhanshu'},\n",
       " 'timings': (12, 4, 5)}"
      ]
     },
     "execution_count": 58,
     "metadata": {},
     "output_type": "execute_result"
    }
   ],
   "source": [
    "d16"
   ]
  },
  {
   "cell_type": "code",
   "execution_count": 60,
   "id": "3465f380-6a6c-4a1f-aa23-e60801c7461e",
   "metadata": {},
   "outputs": [],
   "source": [
    "## to check data type of whole key"
   ]
  },
  {
   "cell_type": "code",
   "execution_count": 61,
   "id": "c3d4f077-706c-4a98-abb0-f55313321f1a",
   "metadata": {},
   "outputs": [
    {
     "data": {
      "text/plain": [
       "set"
      ]
     },
     "execution_count": 61,
     "metadata": {},
     "output_type": "execute_result"
    }
   ],
   "source": [
    "type(d16['Mentor_name'])"
   ]
  },
  {
   "cell_type": "code",
   "execution_count": 62,
   "id": "b17c9543-4284-423e-bea3-5c0eedf5ac8f",
   "metadata": {},
   "outputs": [],
   "source": [
    "d16['name'] = 'Madhan'"
   ]
  },
  {
   "cell_type": "code",
   "execution_count": 63,
   "id": "58407dea-aa67-4d97-84c1-50388fe89d60",
   "metadata": {},
   "outputs": [
    {
     "data": {
      "text/plain": [
       "{'class': ['Data Science master', 'web dev', 'JDS'],\n",
       " 'Start_date': (25, 4, 26),\n",
       " 'Mentor_name': {'Krish', 'sudhanshu'},\n",
       " 'timings': (12, 4, 5),\n",
       " 'name': 'Madhan'}"
      ]
     },
     "execution_count": 63,
     "metadata": {},
     "output_type": "execute_result"
    }
   ],
   "source": [
    "d16"
   ]
  },
  {
   "cell_type": "code",
   "execution_count": 64,
   "id": "60a3cf25-3ab6-4dfb-88de-fd02779d3c78",
   "metadata": {},
   "outputs": [
    {
     "data": {
      "text/plain": [
       "'MADHAN'"
      ]
     },
     "execution_count": 64,
     "metadata": {},
     "output_type": "execute_result"
    }
   ],
   "source": [
    "d16['name'].upper()"
   ]
  },
  {
   "cell_type": "code",
   "execution_count": 75,
   "id": "707f8c28-d940-42be-b733-ec38c0859efe",
   "metadata": {},
   "outputs": [
    {
     "data": {
      "text/plain": [
       "{'key': {'name': 'Madhan', 'class': 'DSM'}}"
      ]
     },
     "execution_count": 75,
     "metadata": {},
     "output_type": "execute_result"
    }
   ],
   "source": [
    "d15 ## indexing using keys "
   ]
  },
  {
   "cell_type": "code",
   "execution_count": 76,
   "id": "751b21b4-825d-48f8-92d5-1bbd150ff791",
   "metadata": {},
   "outputs": [
    {
     "data": {
      "text/plain": [
       "{'name': 'Madhan', 'class': 'DSM'}"
      ]
     },
     "execution_count": 76,
     "metadata": {},
     "output_type": "execute_result"
    }
   ],
   "source": [
    "d15['key']"
   ]
  },
  {
   "cell_type": "code",
   "execution_count": 77,
   "id": "3057da07-718a-4744-ac94-f7d7fc8053ca",
   "metadata": {},
   "outputs": [
    {
     "data": {
      "text/plain": [
       "'DSM'"
      ]
     },
     "execution_count": 77,
     "metadata": {},
     "output_type": "execute_result"
    }
   ],
   "source": [
    "d15['key']['class']"
   ]
  },
  {
   "cell_type": "code",
   "execution_count": 69,
   "id": "107488ee-8633-4da2-9154-25736ca75a1a",
   "metadata": {},
   "outputs": [],
   "source": [
    "## deleting a key value pair"
   ]
  },
  {
   "cell_type": "code",
   "execution_count": 78,
   "id": "e64c320b-9323-4f99-a5b5-94faf3435da3",
   "metadata": {},
   "outputs": [],
   "source": [
    "d15['key1'] = 'abc'"
   ]
  },
  {
   "cell_type": "code",
   "execution_count": 79,
   "id": "25042cac-481b-4db1-bdd2-96b73c14497d",
   "metadata": {},
   "outputs": [
    {
     "data": {
      "text/plain": [
       "{'key': {'name': 'Madhan', 'class': 'DSM'}, 'key1': 'abc'}"
      ]
     },
     "execution_count": 79,
     "metadata": {},
     "output_type": "execute_result"
    }
   ],
   "source": [
    "d15"
   ]
  },
  {
   "cell_type": "code",
   "execution_count": 80,
   "id": "5c05fc85-f7f6-4a59-aaf1-4bd687ed7bd4",
   "metadata": {},
   "outputs": [],
   "source": [
    "del d15['key1']"
   ]
  },
  {
   "cell_type": "code",
   "execution_count": 81,
   "id": "fd588666-7efa-4756-9be4-61fdd8ef67ab",
   "metadata": {},
   "outputs": [
    {
     "data": {
      "text/plain": [
       "{'key': {'name': 'Madhan', 'class': 'DSM'}}"
      ]
     },
     "execution_count": 81,
     "metadata": {},
     "output_type": "execute_result"
    }
   ],
   "source": [
    "d15"
   ]
  },
  {
   "cell_type": "code",
   "execution_count": 82,
   "id": "7834719c-12b7-43a2-a61b-e4bfe695475f",
   "metadata": {},
   "outputs": [],
   "source": [
    "d15.clear()"
   ]
  },
  {
   "cell_type": "code",
   "execution_count": 83,
   "id": "fca5b5d2-711c-4bb9-b958-ff261b5b016d",
   "metadata": {},
   "outputs": [
    {
     "data": {
      "text/plain": [
       "{}"
      ]
     },
     "execution_count": 83,
     "metadata": {},
     "output_type": "execute_result"
    }
   ],
   "source": [
    "d15"
   ]
  },
  {
   "cell_type": "code",
   "execution_count": 84,
   "id": "4dd71833-1822-4655-bb27-6af170909bdd",
   "metadata": {},
   "outputs": [
    {
     "data": {
      "text/plain": [
       "5"
      ]
     },
     "execution_count": 84,
     "metadata": {},
     "output_type": "execute_result"
    }
   ],
   "source": [
    "len(d16)"
   ]
  },
  {
   "cell_type": "code",
   "execution_count": 86,
   "id": "79ca181c-5da9-4351-a62e-fdf1a65a5971",
   "metadata": {},
   "outputs": [
    {
     "data": {
      "text/plain": [
       "{'class': ['Data Science master', 'web dev', 'JDS'],\n",
       " 'Start_date': (25, 4, 26),\n",
       " 'Mentor_name': {'Krish', 'sudhanshu'},\n",
       " 'timings': (12, 4, 5),\n",
       " 'name': 'Madhan'}"
      ]
     },
     "execution_count": 86,
     "metadata": {},
     "output_type": "execute_result"
    }
   ],
   "source": [
    "d16"
   ]
  },
  {
   "cell_type": "code",
   "execution_count": 89,
   "id": "d7c7a212-fc44-475c-82e9-8f6e61cdb6f4",
   "metadata": {},
   "outputs": [
    {
     "data": {
      "text/plain": [
       "dict_keys(['class', 'Start_date', 'Mentor_name', 'timings', 'name'])"
      ]
     },
     "execution_count": 89,
     "metadata": {},
     "output_type": "execute_result"
    }
   ],
   "source": [
    "d16.keys() ## gives all keys available"
   ]
  },
  {
   "cell_type": "code",
   "execution_count": 91,
   "id": "741ccec4-ed28-45f9-9b5a-201313531f7d",
   "metadata": {},
   "outputs": [
    {
     "data": {
      "text/plain": [
       "dict_values([['Data Science master', 'web dev', 'JDS'], (25, 4, 26), {'Krish', 'sudhanshu'}, (12, 4, 5), 'Madhan'])"
      ]
     },
     "execution_count": 91,
     "metadata": {},
     "output_type": "execute_result"
    }
   ],
   "source": [
    "d16.values() ## gives all values "
   ]
  },
  {
   "cell_type": "code",
   "execution_count": 93,
   "id": "451b720b-174e-4bcf-8da9-738acaab5d96",
   "metadata": {},
   "outputs": [
    {
     "data": {
      "text/plain": [
       "[['Data Science master', 'web dev', 'JDS'],\n",
       " (25, 4, 26),\n",
       " {'Krish', 'sudhanshu'},\n",
       " (12, 4, 5),\n",
       " 'Madhan']"
      ]
     },
     "execution_count": 93,
     "metadata": {},
     "output_type": "execute_result"
    }
   ],
   "source": [
    "list(d16.values()) ## coverting into a list using type conversion"
   ]
  },
  {
   "cell_type": "code",
   "execution_count": 94,
   "id": "99bbee30-cbfe-4ed5-9800-b6cf3f374602",
   "metadata": {},
   "outputs": [
    {
     "data": {
      "text/plain": [
       "['class', 'Start_date', 'Mentor_name', 'timings', 'name']"
      ]
     },
     "execution_count": 94,
     "metadata": {},
     "output_type": "execute_result"
    }
   ],
   "source": [
    "list(d16.keys()) ## coverting keys into list"
   ]
  },
  {
   "cell_type": "code",
   "execution_count": 96,
   "id": "a28b3862-1da1-4f1d-ab76-9ba905e9975d",
   "metadata": {},
   "outputs": [
    {
     "data": {
      "text/plain": [
       "[('class', ['Data Science master', 'web dev', 'JDS']),\n",
       " ('Start_date', (25, 4, 26)),\n",
       " ('Mentor_name', {'Krish', 'sudhanshu'}),\n",
       " ('timings', (12, 4, 5)),\n",
       " ('name', 'Madhan')]"
      ]
     },
     "execution_count": 96,
     "metadata": {},
     "output_type": "execute_result"
    }
   ],
   "source": [
    "list(d16.items()) ## converts into a list of both keys and values"
   ]
  },
  {
   "cell_type": "markdown",
   "id": "5a152d2f-261f-4028-9be6-3ace1ed091ba",
   "metadata": {},
   "source": [
    "## Copy (Deep copy , shallow copy)"
   ]
  },
  {
   "cell_type": "code",
   "execution_count": 99,
   "id": "4aa795bb-5e6f-4d10-b09a-4c5a999a57cf",
   "metadata": {},
   "outputs": [],
   "source": [
    "d17 = d16.copy() \n",
    "## this method copies and store two instances of data\n",
    "## which means changes in one wont appear on the copy"
   ]
  },
  {
   "cell_type": "code",
   "execution_count": 98,
   "id": "e35995c8-c228-4bf1-84ad-135476790ec3",
   "metadata": {},
   "outputs": [
    {
     "data": {
      "text/plain": [
       "{'class': ['Data Science master', 'web dev', 'JDS'],\n",
       " 'Start_date': (25, 4, 26),\n",
       " 'Mentor_name': {'Krish', 'sudhanshu'},\n",
       " 'timings': (12, 4, 5),\n",
       " 'name': 'Madhan'}"
      ]
     },
     "execution_count": 98,
     "metadata": {},
     "output_type": "execute_result"
    }
   ],
   "source": [
    "d17"
   ]
  },
  {
   "cell_type": "code",
   "execution_count": 100,
   "id": "5227e642-4468-469c-ad1c-035e4b1a548a",
   "metadata": {},
   "outputs": [],
   "source": [
    "d18 = d16"
   ]
  },
  {
   "cell_type": "code",
   "execution_count": 102,
   "id": "a1573e20-bb83-40c5-a73a-2af4a43d0d30",
   "metadata": {},
   "outputs": [],
   "source": [
    "del d16['name']"
   ]
  },
  {
   "cell_type": "code",
   "execution_count": 103,
   "id": "1cb39b0b-d484-48e3-b820-ea4290e17301",
   "metadata": {},
   "outputs": [
    {
     "data": {
      "text/plain": [
       "{'class': ['Data Science master', 'web dev', 'JDS'],\n",
       " 'Start_date': (25, 4, 26),\n",
       " 'Mentor_name': {'Krish', 'sudhanshu'},\n",
       " 'timings': (12, 4, 5)}"
      ]
     },
     "execution_count": 103,
     "metadata": {},
     "output_type": "execute_result"
    }
   ],
   "source": [
    "d16"
   ]
  },
  {
   "cell_type": "code",
   "execution_count": 105,
   "id": "fcc24697-ce03-42e4-b856-4fd32adf25fc",
   "metadata": {},
   "outputs": [
    {
     "data": {
      "text/plain": [
       "{'class': ['Data Science master', 'web dev', 'JDS'],\n",
       " 'Start_date': (25, 4, 26),\n",
       " 'Mentor_name': {'Krish', 'sudhanshu'},\n",
       " 'timings': (12, 4, 5)}"
      ]
     },
     "execution_count": 105,
     "metadata": {},
     "output_type": "execute_result"
    }
   ],
   "source": [
    "d18 ## deleted 'name' key was deleted in d18 variable too"
   ]
  },
  {
   "cell_type": "code",
   "execution_count": 106,
   "id": "5b1f563a-994c-40f1-8fa8-82ac9420adbc",
   "metadata": {},
   "outputs": [
    {
     "data": {
      "text/plain": [
       "(12, 4, 5)"
      ]
     },
     "execution_count": 106,
     "metadata": {},
     "output_type": "execute_result"
    }
   ],
   "source": [
    "d16.pop('timings')"
   ]
  },
  {
   "cell_type": "code",
   "execution_count": 107,
   "id": "77b62369-7afd-4194-9ceb-c161a9481077",
   "metadata": {},
   "outputs": [
    {
     "data": {
      "text/plain": [
       "{'class': ['Data Science master', 'web dev', 'JDS'],\n",
       " 'Start_date': (25, 4, 26),\n",
       " 'Mentor_name': {'Krish', 'sudhanshu'}}"
      ]
     },
     "execution_count": 107,
     "metadata": {},
     "output_type": "execute_result"
    }
   ],
   "source": [
    "d16"
   ]
  },
  {
   "cell_type": "markdown",
   "id": "f96c0f38-fbe7-498a-855d-0f72d8256821",
   "metadata": {},
   "source": [
    "#### creating new dictionary using .fromkeys"
   ]
  },
  {
   "cell_type": "code",
   "execution_count": 110,
   "id": "db09395e-263a-47b0-b024-457e19d1d4ec",
   "metadata": {},
   "outputs": [
    {
     "data": {
      "text/plain": [
       "{1: ('a', 'b', 'c'), 2: ('a', 'b', 'c'), 3: ('a', 'b', 'c')}"
      ]
     },
     "execution_count": 110,
     "metadata": {},
     "output_type": "execute_result"
    }
   ],
   "source": [
    "d.fromkeys((1,2,3),('a','b','c'))"
   ]
  },
  {
   "cell_type": "code",
   "execution_count": 111,
   "id": "0e52c3af-a399-4b63-b2c9-51c077dd4e80",
   "metadata": {},
   "outputs": [],
   "source": [
    "d19 = {'key1':'value1','key2':'value2'}\n",
    "d20 = {'key3':'value3','key4':'value4'}"
   ]
  },
  {
   "cell_type": "code",
   "execution_count": 113,
   "id": "38b5be18-423c-43eb-8ce8-bf0d1bb8dd16",
   "metadata": {},
   "outputs": [
    {
     "data": {
      "text/plain": [
       "({'key1': 'value1', 'key2': 'value2'}, {'key3': 'value3', 'key4': 'value4'})"
      ]
     },
     "execution_count": 113,
     "metadata": {},
     "output_type": "execute_result"
    }
   ],
   "source": [
    "(d19,d20) ## dictionary can exist inside a tuple"
   ]
  },
  {
   "cell_type": "code",
   "execution_count": 114,
   "id": "ff535c74-ddf4-4ebe-98ad-dbf14beac14b",
   "metadata": {},
   "outputs": [],
   "source": [
    "d19.update(d20)"
   ]
  },
  {
   "cell_type": "code",
   "execution_count": 115,
   "id": "d78b8972-d9ca-4743-819f-c08094ca5ccf",
   "metadata": {},
   "outputs": [
    {
     "data": {
      "text/plain": [
       "{'key1': 'value1', 'key2': 'value2', 'key3': 'value3', 'key4': 'value4'}"
      ]
     },
     "execution_count": 115,
     "metadata": {},
     "output_type": "execute_result"
    }
   ],
   "source": [
    "d19"
   ]
  },
  {
   "cell_type": "code",
   "execution_count": 116,
   "id": "80ecaeab-83d0-45d2-8204-6ae840d99b01",
   "metadata": {},
   "outputs": [
    {
     "data": {
      "text/plain": [
       "{'key3': 'value3', 'key4': 'value4'}"
      ]
     },
     "execution_count": 116,
     "metadata": {},
     "output_type": "execute_result"
    }
   ],
   "source": [
    "d20"
   ]
  },
  {
   "cell_type": "code",
   "execution_count": 117,
   "id": "fc84b954-f9c1-4909-b458-880b7308195f",
   "metadata": {},
   "outputs": [],
   "source": [
    "d20.update(d19)"
   ]
  },
  {
   "cell_type": "code",
   "execution_count": 118,
   "id": "de467f9f-f701-4b22-b69f-b3fa1ca87786",
   "metadata": {},
   "outputs": [
    {
     "data": {
      "text/plain": [
       "{'key1': 'value1', 'key2': 'value2', 'key3': 'value3', 'key4': 'value4'}"
      ]
     },
     "execution_count": 118,
     "metadata": {},
     "output_type": "execute_result"
    }
   ],
   "source": [
    "d19"
   ]
  },
  {
   "cell_type": "code",
   "execution_count": 119,
   "id": "33c0ffae-e488-4212-8cf1-60dba3a531ac",
   "metadata": {},
   "outputs": [
    {
     "data": {
      "text/plain": [
       "{'key3': 'value3', 'key4': 'value4', 'key1': 'value1', 'key2': 'value2'}"
      ]
     },
     "execution_count": 119,
     "metadata": {},
     "output_type": "execute_result"
    }
   ],
   "source": [
    "d20"
   ]
  },
  {
   "cell_type": "code",
   "execution_count": 121,
   "id": "0ce3c9ea-da70-444d-97d3-33b0b4236335",
   "metadata": {},
   "outputs": [],
   "source": [
    "d20.get('sudh')"
   ]
  },
  {
   "cell_type": "code",
   "execution_count": 122,
   "id": "28a6dad1-5e17-4b4c-a1c0-01267ee48bb0",
   "metadata": {},
   "outputs": [
    {
     "data": {
      "text/plain": [
       "'value3'"
      ]
     },
     "execution_count": 122,
     "metadata": {},
     "output_type": "execute_result"
    }
   ],
   "source": [
    "d20.get('key3')"
   ]
  },
  {
   "cell_type": "code",
   "execution_count": 124,
   "id": "b9601231-2261-4ec0-8494-cb24fee8e221",
   "metadata": {},
   "outputs": [
    {
     "ename": "KeyError",
     "evalue": "'sudh'",
     "output_type": "error",
     "traceback": [
      "\u001b[0;31m---------------------------------------------------------------------------\u001b[0m",
      "\u001b[0;31mKeyError\u001b[0m                                  Traceback (most recent call last)",
      "Cell \u001b[0;32mIn[124], line 1\u001b[0m\n\u001b[0;32m----> 1\u001b[0m \u001b[43md20\u001b[49m\u001b[43m[\u001b[49m\u001b[38;5;124;43m'\u001b[39;49m\u001b[38;5;124;43msudh\u001b[39;49m\u001b[38;5;124;43m'\u001b[39;49m\u001b[43m]\u001b[49m \u001b[38;5;66;03m## .get does not return erroe if key does exists it is the main difference \u001b[39;00m\n",
      "\u001b[0;31mKeyError\u001b[0m: 'sudh'"
     ]
    }
   ],
   "source": [
    " d20['sudh'] ## .get does not return erroe if key does exists it is the main difference "
   ]
  },
  {
   "cell_type": "markdown",
   "id": "d438d357-4655-4eb7-ae13-2ffa49f68da9",
   "metadata": {},
   "source": [
    "### Dictionary comprehension"
   ]
  },
  {
   "cell_type": "code",
   "execution_count": 126,
   "id": "93fab186-ca63-474e-8e0a-3f0e51c1cd2f",
   "metadata": {},
   "outputs": [],
   "source": [
    "## creating a dictionary with keys and values as square of keys"
   ]
  },
  {
   "cell_type": "code",
   "execution_count": 127,
   "id": "7af2a1e7-c794-4107-bac5-534457219c99",
   "metadata": {},
   "outputs": [
    {
     "data": {
      "text/plain": [
       "[1, 2, 3, 4, 5, 6, 7, 8, 9, 10]"
      ]
     },
     "execution_count": 127,
     "metadata": {},
     "output_type": "execute_result"
    }
   ],
   "source": [
    "list(range(1,11))"
   ]
  },
  {
   "cell_type": "code",
   "execution_count": 129,
   "id": "e73cbeb5-0d94-4d4e-9eb5-280066525c66",
   "metadata": {},
   "outputs": [],
   "source": [
    "## it retuend keys and values as square of keys"
   ]
  },
  {
   "cell_type": "code",
   "execution_count": 131,
   "id": "5c50aed0-5b45-4f31-90e7-e9b353a33d6b",
   "metadata": {},
   "outputs": [
    {
     "data": {
      "text/plain": [
       "{1: 1, 2: 4, 3: 9, 4: 16, 5: 25, 6: 36, 7: 49, 8: 64, 9: 81, 10: 100}"
      ]
     },
     "execution_count": 131,
     "metadata": {},
     "output_type": "execute_result"
    }
   ],
   "source": [
    "{i : i**2 for i in range(1,11)}"
   ]
  },
  {
   "cell_type": "code",
   "execution_count": 132,
   "id": "6435ccdd-cc6c-4620-a972-244dc5577987",
   "metadata": {},
   "outputs": [],
   "source": [
    "## log funtinos"
   ]
  },
  {
   "cell_type": "code",
   "execution_count": 133,
   "id": "0078ae46-9291-4e54-acf4-f10ca7ab341b",
   "metadata": {},
   "outputs": [],
   "source": [
    "import math"
   ]
  },
  {
   "cell_type": "code",
   "execution_count": 135,
   "id": "563bc96c-e5f1-45fb-96d9-1d4051a7631c",
   "metadata": {},
   "outputs": [
    {
     "data": {
      "text/plain": [
       "{1: 0.0,\n",
       " 2: 0.3010299956639812,\n",
       " 3: 0.47712125471966244,\n",
       " 4: 0.6020599913279624,\n",
       " 5: 0.6989700043360189,\n",
       " 6: 0.7781512503836436,\n",
       " 7: 0.8450980400142568,\n",
       " 8: 0.9030899869919435,\n",
       " 9: 0.9542425094393249,\n",
       " 10: 1.0}"
      ]
     },
     "execution_count": 135,
     "metadata": {},
     "output_type": "execute_result"
    }
   ],
   "source": [
    "{i : math.log10(i) for i in range(1,11)}"
   ]
  },
  {
   "cell_type": "code",
   "execution_count": 137,
   "id": "a4478ccc-e2f3-4781-b009-c387dfd5c75b",
   "metadata": {},
   "outputs": [
    {
     "data": {
      "text/plain": [
       "{'class': ['Data Science master', 'web dev', 'JDS'],\n",
       " 'Start_date': (25, 4, 26),\n",
       " 'Mentor_name': {'Krish', 'sudhanshu'}}"
      ]
     },
     "execution_count": 137,
     "metadata": {},
     "output_type": "execute_result"
    }
   ],
   "source": [
    "d16"
   ]
  },
  {
   "cell_type": "code",
   "execution_count": 138,
   "id": "d03ab7d0-2a97-4a3a-85f1-9416ac25f690",
   "metadata": {},
   "outputs": [
    {
     "data": {
      "text/plain": [
       "True"
      ]
     },
     "execution_count": 138,
     "metadata": {},
     "output_type": "execute_result"
    }
   ],
   "source": [
    "'class' in d16"
   ]
  },
  {
   "cell_type": "code",
   "execution_count": 139,
   "id": "5b7e13d0-af55-40b3-acb0-14cbbb4ff775",
   "metadata": {},
   "outputs": [],
   "source": [
    "## iterate through dictionary and print even key values"
   ]
  },
  {
   "cell_type": "code",
   "execution_count": 140,
   "id": "6aecbb18-0ca3-4999-9c25-ddc66b483eb9",
   "metadata": {},
   "outputs": [],
   "source": [
    "d21 = {i:math.log10(i) for i in range(1,11)}"
   ]
  },
  {
   "cell_type": "code",
   "execution_count": 141,
   "id": "56566ccb-6f16-45f2-b1b6-b3d3a0ae717c",
   "metadata": {},
   "outputs": [
    {
     "data": {
      "text/plain": [
       "{1: 0.0,\n",
       " 2: 0.3010299956639812,\n",
       " 3: 0.47712125471966244,\n",
       " 4: 0.6020599913279624,\n",
       " 5: 0.6989700043360189,\n",
       " 6: 0.7781512503836436,\n",
       " 7: 0.8450980400142568,\n",
       " 8: 0.9030899869919435,\n",
       " 9: 0.9542425094393249,\n",
       " 10: 1.0}"
      ]
     },
     "execution_count": 141,
     "metadata": {},
     "output_type": "execute_result"
    }
   ],
   "source": [
    "d21"
   ]
  },
  {
   "cell_type": "code",
   "execution_count": 142,
   "id": "c3470a83-4b85-420b-8dd8-0c85ebebb055",
   "metadata": {},
   "outputs": [
    {
     "data": {
      "text/plain": [
       "dict_keys([1, 2, 3, 4, 5, 6, 7, 8, 9, 10])"
      ]
     },
     "execution_count": 142,
     "metadata": {},
     "output_type": "execute_result"
    }
   ],
   "source": [
    "d21.keys()"
   ]
  },
  {
   "cell_type": "code",
   "execution_count": 143,
   "id": "286b29eb-6b8f-4754-995c-dbe2aa8f8f1e",
   "metadata": {},
   "outputs": [
    {
     "name": "stdout",
     "output_type": "stream",
     "text": [
      "0.3010299956639812\n",
      "0.6020599913279624\n",
      "0.7781512503836436\n",
      "0.9030899869919435\n",
      "1.0\n"
     ]
    }
   ],
   "source": [
    "for i in d21.keys():\n",
    "    if i%2==0:\n",
    "        print(d21[i])"
   ]
  },
  {
   "cell_type": "code",
   "execution_count": null,
   "id": "df0aff7c-ab13-47b5-8a7a-e68ec9a0e22c",
   "metadata": {},
   "outputs": [],
   "source": []
  }
 ],
 "metadata": {
  "kernelspec": {
   "display_name": "Python 3 (ipykernel)",
   "language": "python",
   "name": "python3"
  },
  "language_info": {
   "codemirror_mode": {
    "name": "ipython",
    "version": 3
   },
   "file_extension": ".py",
   "mimetype": "text/x-python",
   "name": "python",
   "nbconvert_exporter": "python",
   "pygments_lexer": "ipython3",
   "version": "3.10.8"
  }
 },
 "nbformat": 4,
 "nbformat_minor": 5
}
